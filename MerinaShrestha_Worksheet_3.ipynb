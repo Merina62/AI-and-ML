{
  "nbformat": 4,
  "nbformat_minor": 0,
  "metadata": {
    "colab": {
      "provenance": [],
      "mount_file_id": "1FgDxxie0YrUG938SzxEp1scVnTHsCGTe",
      "authorship_tag": "ABX9TyOMoeOb1hNOL2YnELUEcGqu",
      "include_colab_link": true
    },
    "kernelspec": {
      "name": "python3",
      "display_name": "Python 3"
    },
    "language_info": {
      "name": "python"
    }
  },
  "cells": [
    {
      "cell_type": "markdown",
      "metadata": {
        "id": "view-in-github",
        "colab_type": "text"
      },
      "source": [
        "<a href=\"https://colab.research.google.com/github/Merina62/AI-and-ML/blob/main/MerinaShrestha_Worksheet_3.ipynb\" target=\"_parent\"><img src=\"https://colab.research.google.com/assets/colab-badge.svg\" alt=\"Open In Colab\"/></a>"
      ]
    },
    {
      "cell_type": "markdown",
      "source": [
        "**Name: Merina Shrestha**\n",
        "\n",
        "\n",
        "**Student no: np03cs4a220406**"
      ],
      "metadata": {
        "id": "ZeqHsJ813lGr"
      }
    },
    {
      "cell_type": "markdown",
      "source": [
        "#Task - 1: Implementation of MCP Neurons:"
      ],
      "metadata": {
        "id": "XrHiTHZQ1zUw"
      }
    },
    {
      "cell_type": "markdown",
      "source": [
        "Design a MCP Neuron for ”AND” Boolean Functions and ”OR” Boolean Functions with two\n",
        "inputs:"
      ],
      "metadata": {
        "id": "eFlaKxkE2BNP"
      }
    },
    {
      "cell_type": "markdown",
      "source": [
        "For ”AND” Operations."
      ],
      "metadata": {
        "id": "7veqIDKu4fEQ"
      }
    },
    {
      "cell_type": "code",
      "execution_count": null,
      "metadata": {
        "id": "LzSKm0JxNRqX"
      },
      "outputs": [],
      "source": [
        "def MCP_Neurons_AND(X1, X2, T):\n",
        "    \"\"\"\n",
        "    This function implements basic AND operations with MCP Neuron for two inputs.\n",
        "\n",
        "    Arguments:\n",
        "    X1 (1D array): An array of binary values.\n",
        "    X2 (1D array): An array of binary values.\n",
        "    T (int): Threshold value.\n",
        "\n",
        "    Returns:\n",
        "    state_neuron (1D list): A list of neuron states (1 or 0) for the particular inputs.\n",
        "    \"\"\"\n",
        "    assert len(X1) == len(X2), \"Input arrays must be of the same length\"\n",
        "\n",
        "    state_neuron = []\n",
        "\n",
        "    for x1, x2 in zip(X1, X2):\n",
        "        # Element-wise addition\n",
        "        sum_inputs = x1 + x2\n",
        "\n",
        "        # Compare with threshold\n",
        "        if sum_inputs >= T:\n",
        "            state_neuron.append(1)\n",
        "        else:\n",
        "            state_neuron.append(0)\n",
        "\n",
        "    return state_neuron"
      ]
    },
    {
      "cell_type": "code",
      "source": [
        "# Example usage for MCP_Neurons_AND function\n",
        "X1 = [0, 0, 1, 1]\n",
        "X2 = [0, 1, 0, 1]\n",
        "T = 2 # Threshold value\n",
        "# Call the MCP_Neurons_AND function\n",
        "result = MCP_Neurons_AND(X1, X2, T)\n",
        "# Print the result\n",
        "print(f\"Output of AND gate for inputs {X1} and {X2} with threshold {T}: {result}\")"
      ],
      "metadata": {
        "colab": {
          "base_uri": "https://localhost:8080/"
        },
        "id": "EUMBygMK31Xu",
        "outputId": "564f9f18-5cf5-483a-bfdb-96fe781cb774"
      },
      "execution_count": null,
      "outputs": [
        {
          "output_type": "stream",
          "name": "stdout",
          "text": [
            "Output of AND gate for inputs [0, 0, 1, 1] and [0, 1, 0, 1] with threshold 2: [0, 0, 0, 1]\n"
          ]
        }
      ]
    },
    {
      "cell_type": "markdown",
      "source": [
        "For ”OR” Operations."
      ],
      "metadata": {
        "id": "yPLU0Kxo4csT"
      }
    },
    {
      "cell_type": "code",
      "source": [
        "def MCP_Neurons_OR(X1, X2, T):\n",
        "    \"\"\"\n",
        "    This function implements basic OR operations with MCP Neuron for two inputs.\n",
        "\n",
        "    Arguments:\n",
        "    X1 (1D array): An array of binary values.\n",
        "    X2 (1D array): An array of binary values.\n",
        "    T (int): Threshold value.\n",
        "\n",
        "    Returns:\n",
        "    state_neuron (1D list): A list of neuron states (1 or 0) for the particular inputs.\n",
        "    \"\"\"\n",
        "    assert len(X1) == len(X2), \"Input arrays must be of the same length\"\n",
        "\n",
        "    state_neuron = []\n",
        "\n",
        "    for x1, x2 in zip(X1, X2):\n",
        "        # Element-wise addition\n",
        "        sum_inputs = x1 + x2\n",
        "\n",
        "        # Compare with threshold\n",
        "        if sum_inputs >= T:\n",
        "            state_neuron.append(1)\n",
        "        else:\n",
        "            state_neuron.append(0)\n",
        "\n",
        "    return state_neuron"
      ],
      "metadata": {
        "id": "fpgTXnhC4dYn"
      },
      "execution_count": null,
      "outputs": []
    },
    {
      "cell_type": "code",
      "source": [
        "# Example usage for MCP_Neurons_OR function\n",
        "X1 = [0, 0, 1, 1]\n",
        "X2 = [0, 1, 0, 1]\n",
        "T = 1 # Threshold value for OR gate\n",
        "# Call the MCP_Neurons_OR function\n",
        "result_or = MCP_Neurons_OR(X1, X2, T)\n",
        "# Print the result\n",
        "print(f\"Output of OR gate for inputs {X1} and {X2} with threshold {T}: {result_or}\")"
      ],
      "metadata": {
        "colab": {
          "base_uri": "https://localhost:8080/"
        },
        "id": "8JFG0NCi4klS",
        "outputId": "f881d145-c90d-4429-edd9-4bb20f6edb8f"
      },
      "execution_count": null,
      "outputs": [
        {
          "output_type": "stream",
          "name": "stdout",
          "text": [
            "Output of OR gate for inputs [0, 0, 1, 1] and [0, 1, 0, 1] with threshold 1: [0, 1, 1, 1]\n"
          ]
        }
      ]
    },
    {
      "cell_type": "markdown",
      "source": [
        "Question - 1: List out all the limitations of MCP - Neurons."
      ],
      "metadata": {
        "id": "Wn0rT1Hu43fW"
      }
    },
    {
      "cell_type": "markdown",
      "source": [
        "Ans: Limitations of MCP Neurons\n",
        "\n",
        "Linearly Separable Functions Only:\n",
        "MCP neurons can only represent boolean functions that are linearly separable.\n",
        "\n",
        "\n",
        "Lacks Biological Realism: MCP neurons do not mimic the complexity of biological neural networks.\n",
        "\n",
        "No Learning Mechanism: MCP neurons cannot learn from data. Weights and thresholds must be set manually.\n",
        "\n",
        "Binary Inputs and Outputs: Works only with binary inputs (0 or 1) and produces binary outputs.\n",
        "\n",
        "Single-Layer Limitation: MCP neurons are limited to single-layer networks, which restricts their ability to solve complex problems."
      ],
      "metadata": {
        "id": "YdbJOmdtgdUk"
      }
    },
    {
      "cell_type": "markdown",
      "source": [
        "Question - 2: Think if you can develop a logic to solve for XOR function using MCP Neuron.\n"
      ],
      "metadata": {
        "id": "39epoBLCgfZC"
      }
    },
    {
      "cell_type": "markdown",
      "source": [
        "Ans- XOR function cannot be solved using a single MCP neuron because it is not linearly separable."
      ],
      "metadata": {
        "id": "JrMR2fnngj_6"
      }
    },
    {
      "cell_type": "markdown",
      "source": [
        "# Task 2: Perceptron Algorithm for 0 vs 1 Classification."
      ],
      "metadata": {
        "id": "bybvl_j5gvhL"
      }
    },
    {
      "cell_type": "markdown",
      "source": [
        "**Load the Dataset:**"
      ],
      "metadata": {
        "id": "tskv_f5xg0Rl"
      }
    },
    {
      "cell_type": "code",
      "source": [
        "import pandas as pd\n",
        "import numpy as np\n",
        "import matplotlib.pyplot as plt\n",
        "\n",
        "# Load the dataset\n",
        "df_0_1 = pd.read_csv(\"/content/drive/MyDrive/AI- 6CS012/Week-3/mnist_0_and_1.csv\") # Add the correct file path if necessary\n",
        "# Extract features and labels\n",
        "X = df_0_1.drop(columns=[\"label\"]).values # 784 pixels\n",
        "y = df_0_1[\"label\"].values # Labels (0 or 1)\n",
        "# Check the shape of the features and labels\n",
        "print(\"Feature matrix shape:\", X.shape)\n",
        "print(\"Label vector shape:\", y.shape)"
      ],
      "metadata": {
        "colab": {
          "base_uri": "https://localhost:8080/"
        },
        "id": "sQH-XyaRhbkt",
        "outputId": "c92bd48f-d3c2-40ad-ddae-d00d9cfd0b50"
      },
      "execution_count": null,
      "outputs": [
        {
          "output_type": "stream",
          "name": "stdout",
          "text": [
            "Feature matrix shape: (12665, 784)\n",
            "Label vector shape: (12665,)\n"
          ]
        }
      ]
    },
    {
      "cell_type": "markdown",
      "source": [
        "1. Question - 1: What does the shape of X represent?"
      ],
      "metadata": {
        "id": "Cm-j15PRh2DR"
      }
    },
    {
      "cell_type": "markdown",
      "source": [
        "The number of images in the dataset and number of pixels in each image (flattened from a 28x28 image)."
      ],
      "metadata": {
        "id": "CbnCOibch2kX"
      }
    },
    {
      "cell_type": "markdown",
      "source": [
        "Question - 2: What does the shape of X represent?"
      ],
      "metadata": {
        "id": "0UvZMwh8iMnu"
      }
    },
    {
      "cell_type": "markdown",
      "source": [
        "The number of labels in the dataset (one label for each image)."
      ],
      "metadata": {
        "id": "ErzxcdbgiO-c"
      }
    },
    {
      "cell_type": "markdown",
      "source": [
        "**Visualizing the Dataset.**"
      ],
      "metadata": {
        "id": "uN8CAX62iVQO"
      }
    },
    {
      "cell_type": "code",
      "source": [
        "# Separate images for label 0 and label 1\n",
        "images_0 = X[y == 0]  # Get all images with label 0\n",
        "images_1 = X[y == 1]  # Get all images with label 1\n",
        "\n",
        "fig, axes = plt.subplots(2, 5, figsize=(10, 5))\n",
        "\n",
        "# Check if the arrays have the required amount of data\n",
        "if len(images_0) < 5 or len(images_1) < 5:\n",
        "    print(\"Error: Not enough images in images_0 or images_1 to plot 5 images.\")\n",
        "else:\n",
        "    for i in range(5):\n",
        "        # Plot digit 0\n",
        "        axes[0, i].imshow(images_0[i].reshape(28, 28), cmap=\"gray\")\n",
        "        axes[0, i].set_title(\"Label: 0\")\n",
        "        axes[0, i].axis(\"off\")\n",
        "        # Plot digit 1\n",
        "        axes[1, i].imshow(images_1[i].reshape(28, 28), cmap=\"gray\")\n",
        "        axes[1, i].set_title(\"Label: 1\")\n",
        "        axes[1, i].axis(\"off\")\n",
        "    plt.suptitle(\"First 5 Images of 0 and 1 from MNIST Subset\")\n",
        "    plt.show()"
      ],
      "metadata": {
        "colab": {
          "base_uri": "https://localhost:8080/",
          "height": 451
        },
        "id": "B43J0XSMiYNR",
        "outputId": "9526c8c2-0f94-486c-cf86-6d44d3f93247"
      },
      "execution_count": null,
      "outputs": [
        {
          "output_type": "display_data",
          "data": {
            "text/plain": [
              "<Figure size 1000x500 with 10 Axes>"
            ],
            "image/png": "[encoded data removed]"
          },
          "metadata": {}
        }
      ]
    },
    {
      "cell_type": "markdown",
      "source": [
        "**Initialize Weights and Bias:**"
      ],
      "metadata": {
        "id": "VCXZ4uhriyCt"
      }
    },
    {
      "cell_type": "code",
      "source": [
        "# Initialize weights and bias\n",
        "weights = np.zeros(X.shape[1]) # 784 weights (one for each pixel)\n",
        "bias = 0\n",
        "learning_rate = 0.1\n",
        "epochs = 100"
      ],
      "metadata": {
        "id": "mxhg_xebimWM"
      },
      "execution_count": null,
      "outputs": []
    },
    {
      "cell_type": "markdown",
      "source": [
        "Question - 3: What does the weights array represent in this context?\n",
        "\n",
        "Ans:The weights array represents the importance or contribution of each input feature (pixel) to the model's prediction."
      ],
      "metadata": {
        "id": "ekEpPbuVjD3x"
      }
    },
    {
      "cell_type": "markdown",
      "source": [
        "Question - 4: Why are we initializing the weights to zero? What effect could this have on the training process?\n",
        "\n",
        "Ans: We initializing the weights to zero to ensure all features start with equal importance.\n",
        "\n",
        "For basic models like a single-layer perceptron, this works fine because the learning process (like gradient descent) adjusts the weights correctly. However, for more complex models (like deep neural networks), starting with zero weights can cause problems. All neurons might end up learning the same thing because they get the same updates, which slows down training."
      ],
      "metadata": {
        "id": "FfLNZoy0jMMC"
      }
    },
    {
      "cell_type": "markdown",
      "source": [
        "**Implementation Decision Function:**"
      ],
      "metadata": {
        "id": "bck4Nfz5jqnE"
      }
    },
    {
      "cell_type": "code",
      "source": [
        "import numpy as np\n",
        "\n",
        "def decision_function(X, weights, bias):\n",
        "    \"\"\"\n",
        "    Compute the predicted labels for the input data.\n",
        "\n",
        "    Parameters:\n",
        "    - X: Features (input data) as a numpy array of shape (n_samples, n_features)\n",
        "    - weights: Updated weights after training\n",
        "    - bias: Updated bias after training\n",
        "\n",
        "    Returns:\n",
        "    - y_pred_all: The predicted labels for the input data\n",
        "    \"\"\"\n",
        "    # Compute the linear combination of inputs, weights, and bias\n",
        "    predictions = np.dot(X, weights) + bias\n",
        "\n",
        "    # Apply the step function as the activation function\n",
        "    y_pred_all = np.where(predictions >= 0, 1, 0)\n",
        "\n",
        "    return y_pred_all"
      ],
      "metadata": {
        "id": "BtWPuasHjuNl"
      },
      "execution_count": null,
      "outputs": []
    },
    {
      "cell_type": "markdown",
      "source": [
        "**Training the Perceptron:**"
      ],
      "metadata": {
        "id": "wQnslSc4kLrt"
      }
    },
    {
      "cell_type": "code",
      "source": [
        "import numpy as np\n",
        "\n",
        "def train_perceptron(X, y, weights, bias, learning_rate=0.1, epochs=100):\n",
        "    \"\"\"\n",
        "    Train the perceptron using the Perceptron Learning Algorithm.\n",
        "\n",
        "    Parameters:\n",
        "    - X: Features (input data) as a numpy array of shape (n_samples, n_features)\n",
        "    - y: Labels (true output) as a numpy array of shape (n_samples,)\n",
        "    - weights: Initial weights as a numpy array of shape (n_features,)\n",
        "    - bias: Initial bias value (scalar)\n",
        "    - learning_rate: Learning rate for weight updates (default is 0.1)\n",
        "    - epochs: Number of iterations to train the model (default is 100)\n",
        "\n",
        "    Returns:\n",
        "    - weights: Updated weights after training\n",
        "    - bias: Updated bias after training\n",
        "    - accuracy: Total correct prediction.\n",
        "    \"\"\"\n",
        "    n_samples, n_features = X.shape\n",
        "\n",
        "    for epoch in range(epochs):\n",
        "        correct_predictions = 0\n",
        "\n",
        "        for i in range(n_samples):\n",
        "            # Compute the linear combination of inputs, weights, and bias\n",
        "            linear_output = np.dot(X[i], weights) + bias\n",
        "\n",
        "            # Apply the step function to get the predicted label\n",
        "            y_pred = 1 if linear_output >= 0 else 0\n",
        "\n",
        "            # Update weights and bias if the prediction is incorrect\n",
        "            if y_pred != y[i]:\n",
        "                weights += learning_rate * (y[i] - y_pred) * X[i]\n",
        "                bias += learning_rate * (y[i] - y_pred)\n",
        "            else:\n",
        "                correct_predictions += 1\n",
        "\n",
        "        # Calculate accuracy for the current epoch\n",
        "        accuracy = correct_predictions / n_samples\n",
        "\n",
        "        # Early stopping if accuracy is 100%\n",
        "        if accuracy == 1.0:\n",
        "            break\n",
        "\n",
        "    return weights, bias, accuracy"
      ],
      "metadata": {
        "id": "KVlv-g9MkQoN"
      },
      "execution_count": null,
      "outputs": []
    },
    {
      "cell_type": "markdown",
      "source": [
        "Question - 5: What is the purpose of the output = np.dot(X[i], weights) + bias line?\n",
        "\n",
        "Ans:This line computes the linear combination of the input features (X[i]), weights, and bias. This value is used to decide the predicted label (1 or 0) by applying the step function."
      ],
      "metadata": {
        "id": "q6q6w5ePjOnb"
      }
    },
    {
      "cell_type": "markdown",
      "source": [
        "Question - 6: What happens when the prediction is wrong? How are the weights and\n",
        "bias updated?\n",
        "\n",
        "Ans: When the prediction is wrong (y_pred != y[i]), the weights and bias are updated to reduce the error.\n",
        "\n",
        "weights += learning_rate * (y[i] - y_pred) * X[i]\n",
        "\n",
        "bias += learning_rate * (y[i] - y_pred)"
      ],
      "metadata": {
        "id": "q2EeXFCAi6LB"
      }
    },
    {
      "cell_type": "markdown",
      "source": [
        "Question - 7:Why is the final accuracy important, and what do you expect it to be?\n",
        "\n",
        "Ans: The final accuracy measures how well the perceptron has learned to classify the training data.If the data is linearly separable, the perceptron should achieve 100% accuracy on the training set after sufficient training. If the data is not linearly separable, the accuracy will be less than 100%, and the perceptron may not converge."
      ],
      "metadata": {
        "id": "0v-8m-zYk51A"
      }
    },
    {
      "cell_type": "markdown",
      "source": [
        "**Training the Perceptron Algorithm:**"
      ],
      "metadata": {
        "id": "Z6xU6W8OlVTL"
      }
    },
    {
      "cell_type": "code",
      "source": [
        "# After training the model with the perceptron_learning_algorithm\n",
        "weights, bias, accuracy = train_perceptron(X, y, weights, bias)\n",
        "# Evaluate the model using the new function\n",
        "print(\"The Final Accuracy is: \", accuracy)"
      ],
      "metadata": {
        "colab": {
          "base_uri": "https://localhost:8080/"
        },
        "id": "E2KZVVFzlUyn",
        "outputId": "49dcaa5b-b5e6-4dab-d340-80bbdcd962ad"
      },
      "execution_count": null,
      "outputs": [
        {
          "output_type": "stream",
          "name": "stdout",
          "text": [
            "The Final Accuracy is:  1.0\n"
          ]
        }
      ]
    },
    {
      "cell_type": "markdown",
      "source": [
        "**Visualizing Misclassified Image.**"
      ],
      "metadata": {
        "id": "Nj2Yz5vAldpX"
      }
    },
    {
      "cell_type": "code",
      "source": [
        "# Get predictions for all data points\n",
        "predictions = np.dot(X, weights) + bias\n",
        "y_pred = np.where(predictions >= 0, 1, 0)\n",
        "\n",
        "# Calculate final accuracy\n",
        "final_accuracy = np.mean(y_pred == y)\n",
        "print(f\"Final Accuracy: {final_accuracy:.4f}\")\n",
        "\n",
        "# Step 5: Visualize Misclassified Images\n",
        "misclassified_idx = np.where(y_pred != y)[0]\n",
        "if len(misclassified_idx) > 0:\n",
        "    fig, axes = plt.subplots(2, 5, figsize=(10, 5))\n",
        "    for ax, idx in zip(axes.flat, misclassified_idx[:10]):  # Show 10 misclassified images\n",
        "        ax.imshow(X[idx].reshape(28, 28), cmap=\"gray\")\n",
        "        ax.set_title(f\"Pred: {y_pred[idx]}, True: {y[idx]}\")\n",
        "        ax.axis(\"off\")\n",
        "    plt.suptitle(\"Misclassified Images\")\n",
        "    plt.show()\n",
        "else:\n",
        "    print(\"All images were correctly classified!\")"
      ],
      "metadata": {
        "colab": {
          "base_uri": "https://localhost:8080/"
        },
        "id": "Z6jnFlUpl5y1",
        "outputId": "df18ebd1-565b-404c-b88f-4047a8cea64f"
      },
      "execution_count": null,
      "outputs": [
        {
          "output_type": "stream",
          "name": "stdout",
          "text": [
            "Final Accuracy: 1.0000\n",
            "All images were correctly classified!\n"
          ]
        }
      ]
    },
    {
      "cell_type": "markdown",
      "source": [
        "Question - 8:What does misclassified idx store, and how is it used in this code?\n",
        "\n",
        "Ans: Misclassified_idx stores the indices of the data points (images) that were misclassified by the model.\n",
        "\n",
        "The code checks if there are any misclassified images and if it exist, it displays up to 10 of them. Each misclassified image is displayed with its predicted label and true label."
      ],
      "metadata": {
        "id": "4M0Q1vr-mCJX"
      }
    },
    {
      "cell_type": "markdown",
      "source": [
        "Question - 9: How do you interpret the result if the output is ”All images were correctly classified!”?\n",
        "\n",
        "Ans: It means that the model achieved 100% accuracy on the training data."
      ],
      "metadata": {
        "id": "gAKnYJzsm2wB"
      }
    },
    {
      "cell_type": "markdown",
      "source": [
        "# Task 3: Perceptron Algorithm for 3 vs 5 Classification."
      ],
      "metadata": {
        "id": "glN6mFFYm_iP"
      }
    },
    {
      "cell_type": "code",
      "source": [
        "import pandas as pd\n",
        "import numpy as np\n",
        "import matplotlib.pyplot as plt\n",
        "\n",
        "\n",
        "# Load the dataset\n",
        "df_0_1 = pd.read_csv(\"/content/drive/MyDrive/AI- 6CS012/Week-3/mnist_3_and_5.csv\")\n",
        "\n",
        "# Extract features and labels\n",
        "X = df_0_1.drop(columns=[\"label\"]).values  # 784 pixels\n",
        "y = df_0_1[\"label\"].values  # Labels (0 or 1)\n",
        "\n",
        "# Check the shape of the features and labels\n",
        "print(\"Feature matrix shape:\", X.shape)\n",
        "print(\"Label vector shape:\", y.shape)"
      ],
      "metadata": {
        "colab": {
          "base_uri": "https://localhost:8080/"
        },
        "id": "ucjSYY7FnHjX",
        "outputId": "0ebc89a0-b713-4a39-d434-0062cba9ba2d"
      },
      "execution_count": null,
      "outputs": [
        {
          "output_type": "stream",
          "name": "stdout",
          "text": [
            "Feature matrix shape: (2741, 784)\n",
            "Label vector shape: (2741,)\n"
          ]
        }
      ]
    },
    {
      "cell_type": "code",
      "source": [
        "# Step 2: Preprocess the data\n",
        "# Convert labels to binary: 3 → 0, 5 → 1\n",
        "y = np.where(y == 3, 0, 1)\n",
        "\n",
        "# Normalize pixel values to [0, 1]\n",
        "X = X / 255.0\n",
        "\n",
        "# Step 3: Initialize weights and bias\n",
        "weights = np.zeros(X.shape[1])  # One weight per feature (pixel)\n",
        "bias = 0"
      ],
      "metadata": {
        "id": "SWPK_NgOnTd9"
      },
      "execution_count": null,
      "outputs": []
    },
    {
      "cell_type": "code",
      "source": [
        "# Step 4: Train the Perceptron\n",
        "def train_perceptron(X, y, weights, bias, learning_rate=0.1, epochs=100):\n",
        "    n_samples, n_features = X.shape\n",
        "\n",
        "    for epoch in range(epochs):\n",
        "        correct_predictions = 0\n",
        "\n",
        "        for i in range(n_samples):\n",
        "            # Compute the linear combination of inputs, weights, and bias\n",
        "            linear_output = np.dot(X[i], weights) + bias\n",
        "\n",
        "            # Apply the step function to get the predicted label\n",
        "            y_pred = 1 if linear_output >= 0 else 0\n",
        "\n",
        "            # Update weights and bias if the prediction is incorrect\n",
        "            if y_pred != y[i]:\n",
        "                weights += learning_rate * (y[i] - y_pred) * X[i]\n",
        "                bias += learning_rate * (y[i] - y_pred)\n",
        "            else:\n",
        "                correct_predictions += 1\n",
        "\n",
        "        # Calculate accuracy for the current epoch\n",
        "        accuracy = correct_predictions / n_samples\n",
        "\n",
        "        # Early stopping if accuracy is 100%\n",
        "        if accuracy == 1.0:\n",
        "            break\n",
        "\n",
        "    return weights, bias, accuracy"
      ],
      "metadata": {
        "id": "uHCGL3yunjSC"
      },
      "execution_count": null,
      "outputs": []
    },
    {
      "cell_type": "code",
      "source": [
        "# Train the model\n",
        "weights, bias, accuracy = train_perceptron(X, y, weights, bias)\n",
        "\n",
        "# Step 5: Evaluate the model\n",
        "# Get predictions for all data points\n",
        "predictions = np.dot(X, weights) + bias\n",
        "y_pred = np.where(predictions >= 0, 1, 0)\n",
        "\n",
        "# Calculate final accuracy\n",
        "final_accuracy = np.mean(y_pred == y)\n",
        "print(f\"Final Accuracy: {final_accuracy:.4f}\")"
      ],
      "metadata": {
        "colab": {
          "base_uri": "https://localhost:8080/"
        },
        "id": "Oa5H46dJnl4E",
        "outputId": "1f8af0b9-9f24-4515-84aa-285434bdb9ce"
      },
      "execution_count": null,
      "outputs": [
        {
          "output_type": "stream",
          "name": "stdout",
          "text": [
            "Final Accuracy: 0.9916\n"
          ]
        }
      ]
    },
    {
      "cell_type": "code",
      "source": [
        "# Step 6: Visualize Misclassified Images\n",
        "misclassified_idx = np.where(y_pred != y)[0]\n",
        "if len(misclassified_idx) > 0:\n",
        "    fig, axes = plt.subplots(2, 5, figsize=(10, 5))\n",
        "    for ax, idx in zip(axes.flat, misclassified_idx[:10]):  # Show 10 misclassified images\n",
        "        ax.imshow(X[idx].reshape(28, 28), cmap=\"gray\")\n",
        "        ax.set_title(f\"Pred: {5 if y_pred[idx] == 1 else 3}, True: {5 if y[idx] == 1 else 3}\")\n",
        "        ax.axis(\"off\")\n",
        "    plt.suptitle(\"Misclassified Images\")\n",
        "    plt.show()\n",
        "else:\n",
        "    print(\"All images were correctly classified!\")"
      ],
      "metadata": {
        "colab": {
          "base_uri": "https://localhost:8080/",
          "height": 451
        },
        "id": "8x59tP63noED",
        "outputId": "160445a9-f048-4f7b-ebb0-c280ba72fb0c"
      },
      "execution_count": null,
      "outputs": [
        {
          "output_type": "display_data",
          "data": {
            "text/plain": [
              "<Figure size 1000x500 with 10 Axes>"
            ],
            "image/png": "[encoded data removed]"
          },
          "metadata": {}
        }
      ]
    }
  ]
}