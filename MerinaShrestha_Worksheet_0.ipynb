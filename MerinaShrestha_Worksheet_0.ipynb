{
  "nbformat": 4,
  "nbformat_minor": 0,
  "metadata": {
    "colab": {
      "provenance": []
    },
    "kernelspec": {
      "name": "python3",
      "display_name": "Python 3"
    },
    "language_info": {
      "name": "python"
    }
  },
  "cells": [
    {
      "cell_type": "code",
      "source": [
        "from google.colab import drive\n",
        "drive.mount('/content/drive')"
      ],
      "metadata": {
        "colab": {
          "base_uri": "https://localhost:8080/"
        },
        "id": "sTULrt-CxmXz",
        "outputId": "e18dbcbb-4750-48ee-c20a-47a61726a088"
      },
      "execution_count": 1,
      "outputs": [
        {
          "output_type": "stream",
          "name": "stdout",
          "text": [
            "Mounted at /content/drive\n"
          ]
        }
      ]
    },
    {
      "cell_type": "code",
      "execution_count": 2,
      "metadata": {
        "id": "xzAGzy7pRkDz",
        "colab": {
          "base_uri": "https://localhost:8080/"
        },
        "outputId": "0b5f8804-197c-45e7-bb47-adb93da7f4c6"
      },
      "outputs": [
        {
          "output_type": "stream",
          "name": "stdout",
          "text": [
            "Drive already mounted at /content/drive; to attempt to forcibly remount, call drive.mount(\"/content/drive\", force_remount=True).\n",
            "Hello, World!\n",
            "Python version: 3.11.11 (main, Dec  4 2024, 08:55:07) [GCC 11.4.0]\n"
          ]
        }
      ],
      "source": [
        "from google.colab import drive\n",
        "drive.mount('/content/drive')\n",
        "import sys\n",
        "# Check Python version\n",
        "if sys.version_info.major == 3 and sys.version_info.minor >= 6:\n",
        "  print(\"Hello, World!\")\n",
        "  print(f\"Python version: {sys.version}\")\n",
        "else:\n",
        "  print(\"Please use Python 3.6 or higher.\")"
      ]
    },
    {
      "cell_type": "code",
      "source": [
        "# Mutable Data Type Example (List)\n",
        "my_list = [1, 2, 3]\n",
        "print(\"Original List:\", my_list)\n",
        "# Modifying the list (changing contents)\n",
        "my_list.append(4)\n",
        "print(\"Modified List:\", my_list)\n",
        "# Immutable Data Type Example (Tuple)\n",
        "my_tuple = (1, 2, 3)\n",
        "print(\"Original Tuple:\", my_tuple)"
      ],
      "metadata": {
        "colab": {
          "base_uri": "https://localhost:8080/"
        },
        "id": "535Uzwk3iDkD",
        "outputId": "8f2f1245-8217-4be3-9ce8-90738e4f4576"
      },
      "execution_count": 3,
      "outputs": [
        {
          "output_type": "stream",
          "name": "stdout",
          "text": [
            "Original List: [1, 2, 3]\n",
            "Modified List: [1, 2, 3, 4]\n",
            "Original Tuple: (1, 2, 3)\n"
          ]
        }
      ]
    },
    {
      "cell_type": "code",
      "source": [
        "age = 23 #int\n",
        "pi = 3.14 #float\n",
        "temperature = -5.5 #float\n",
        "print(\"data type of variable age = \", type(age))\n",
        "print(\"data type of variable pi = \", type(pi))\n",
        "print(\"data type of variable temperature = \", type(temperature))"
      ],
      "metadata": {
        "colab": {
          "base_uri": "https://localhost:8080/"
        },
        "id": "esdd2uIJiVwl",
        "outputId": "fc4f7d62-c64e-4f28-9bba-ee9f625403a3"
      },
      "execution_count": 4,
      "outputs": [
        {
          "output_type": "stream",
          "name": "stdout",
          "text": [
            "data type of variable age =  <class 'int'>\n",
            "data type of variable pi =  <class 'float'>\n",
            "data type of variable temperature =  <class 'float'>\n"
          ]
        }
      ]
    },
    {
      "cell_type": "code",
      "source": [
        "name = \"Alice\"\n",
        "greeting = 'Hello'\n",
        "address = \"123 Main St\"\n",
        "print(\"data type of the variable name = \",type(name))\n",
        "print(\"data type of the variable greeting = \",type(greeting))\n",
        "print(\"data type of the variable address = \",type(address))\n",
        "# slice only one element\n",
        "print(\"The first letter of the name is:\", name[0])\n",
        "print(\"The last letter of the name is:\", name[-1])\n",
        "# slice a range of elements\n",
        "print(\"The second letter to the fourth of the name is:\", name[1:4])\n",
        "print(\"The first two letters of the name are:\", name[:2])\n",
        "print(\"Substring starting from the third letter is:\", name[2:])"
      ],
      "metadata": {
        "colab": {
          "base_uri": "https://localhost:8080/"
        },
        "id": "gOsEkMaMicAE",
        "outputId": "a0a79bc0-0989-4937-9aea-6af6deca5bd7"
      },
      "execution_count": 5,
      "outputs": [
        {
          "output_type": "stream",
          "name": "stdout",
          "text": [
            "data type of the variable name =  <class 'str'>\n",
            "data type of the variable greeting =  <class 'str'>\n",
            "data type of the variable address =  <class 'str'>\n",
            "The first letter of the name is: A\n",
            "The last letter of the name is: e\n",
            "The second letter to the fourth of the name is: lic\n",
            "The first two letters of the name are: Al\n",
            "Substring starting from the third letter is: ice\n"
          ]
        }
      ]
    },
    {
      "cell_type": "code",
      "source": [
        "list1 = [1, 2, 3, 4]\n",
        "mixed_list = [12, \"Hello\", True]\n",
        "# List is mutable\n",
        "mixed_list[0] = False\n",
        "mixed_list"
      ],
      "metadata": {
        "colab": {
          "base_uri": "https://localhost:8080/"
        },
        "id": "AOG1FciUiqRT",
        "outputId": "79dd4119-f9db-4594-8e04-309c3a7c079c"
      },
      "execution_count": 6,
      "outputs": [
        {
          "output_type": "execute_result",
          "data": {
            "text/plain": [
              "[False, 'Hello', True]"
            ]
          },
          "metadata": {},
          "execution_count": 6
        }
      ]
    },
    {
      "cell_type": "code",
      "source": [
        "colors = ('red', 'green', 'yellow', 'blue')\n",
        "print(\"First element:\", colors[0])\n",
        "print(\"Last two elements:\", colors[2:])\n",
        "print(\"Middle two elements:\", colors[1:3])"
      ],
      "metadata": {
        "colab": {
          "base_uri": "https://localhost:8080/"
        },
        "id": "c5o7Iqawizl0",
        "outputId": "4088f3d5-2d07-481e-dad6-040ccaf87c3a"
      },
      "execution_count": 7,
      "outputs": [
        {
          "output_type": "stream",
          "name": "stdout",
          "text": [
            "First element: red\n",
            "Last two elements: ('yellow', 'blue')\n",
            "Middle two elements: ('green', 'yellow')\n"
          ]
        }
      ]
    },
    {
      "cell_type": "code",
      "source": [
        "person = {'name':'John','age':30,'city':'Pittsburgh'}\n",
        "print(f\"Hello my name is {person['name']}. I am {person['age']} years old and I live at {person['city']}.\")\n",
        "print(\"All keys:\", list(person.keys()))\n",
        "print(\"All values:\", list(person.values()))"
      ],
      "metadata": {
        "colab": {
          "base_uri": "https://localhost:8080/"
        },
        "id": "nxH6hkIxjLS-",
        "outputId": "01c6f57c-32a6-4885-bf1a-fb29bbe1c95c"
      },
      "execution_count": 8,
      "outputs": [
        {
          "output_type": "stream",
          "name": "stdout",
          "text": [
            "Hello my name is John. I am 30 years old and I live at Pittsburgh.\n",
            "All keys: ['name', 'age', 'city']\n",
            "All values: ['John', 30, 'Pittsburgh']\n"
          ]
        }
      ]
    },
    {
      "cell_type": "code",
      "source": [
        "unique_numbers = {1,2,3,3,3,3,4,5}\n",
        "print(unique_numbers)"
      ],
      "metadata": {
        "colab": {
          "base_uri": "https://localhost:8080/"
        },
        "id": "nRBYwe2G_BRA",
        "outputId": "1ec2e134-93e8-4b40-ab8f-70b0262ee195"
      },
      "execution_count": 9,
      "outputs": [
        {
          "output_type": "stream",
          "name": "stdout",
          "text": [
            "{1, 2, 3, 4, 5}\n"
          ]
        }
      ]
    },
    {
      "cell_type": "code",
      "source": [
        "is_student = True\n",
        "has_license = False\n",
        "print(\"data type of the variable is_student = \",type(is_student))\n",
        "print(\"data type of the variable has_license = \",type(has_license))"
      ],
      "metadata": {
        "colab": {
          "base_uri": "https://localhost:8080/"
        },
        "id": "EflBf6to_dFT",
        "outputId": "23b05823-88f1-4732-a044-53a9b8e0603e"
      },
      "execution_count": 10,
      "outputs": [
        {
          "output_type": "stream",
          "name": "stdout",
          "text": [
            "data type of the variable is_student =  <class 'bool'>\n",
            "data type of the variable has_license =  <class 'bool'>\n"
          ]
        }
      ]
    },
    {
      "cell_type": "markdown",
      "source": [
        "# To-do task"
      ],
      "metadata": {
        "id": "ZUDlK0K8kTGc"
      }
    },
    {
      "cell_type": "markdown",
      "source": [
        "4.1 Exercise on Functions:"
      ],
      "metadata": {
        "id": "w5DpDhc6ABN-"
      }
    },
    {
      "cell_type": "markdown",
      "source": [
        "# Task - 1:\n",
        "Create a Python program that converts between different units of measurement.\n",
        "• The program should:\n",
        "1. Prompt the user to choose the type of conversion (e.g., length, weight, volume).\n",
        "2. Ask the user to input the value to be converted.\n",
        "3. Perform the conversion and display the result.\n",
        "4. Handle potential errors, such as invalid input or unsupported conversion types.\n",
        "\n",
        "• Requirements:\n",
        "1. Functions: Define at least one function to perform the conversion.\n",
        "2. Error Handling: Use try-except blocks to handle invalid input (e.g., non-numeric values).\n",
        "3. User Input: Prompt the user to select the conversion type and input the value.\n",
        "4. Docstrings: Include a docstring in your function to describe its purpose, parameters, and\n",
        "return value.\n",
        "\n",
        "• Conversion Options:\n",
        "1. Length:\n",
        "– Convert meters (m) to feet (ft).\n",
        "– Convert feet (ft) to meters (m).\n",
        "2. Weight:\n",
        "– Convert kilograms (kg) to pounds (lbs).\n",
        "– Convert pounds (lbs) to kilograms (kg).\n",
        "3. Volume:\n",
        "– Convert liters (L) to gallons (gal).\n",
        "– Convert gallons (gal) to liters (L)."
      ],
      "metadata": {
        "id": "lvOyQB1wkf5m"
      }
    },
    {
      "cell_type": "code",
      "source": [
        "def Length(unit,value):\n",
        "  if unit==\"m\":\n",
        "    return value * 3.28084\n",
        "  elif unit==\"ft\":\n",
        "    return value * 0.3048\n",
        "  else:\n",
        "    raise ValueError(\"Invalid unit. Use 'm' or 'ft'.\")\n",
        "\n",
        "def Weight(unit,value):\n",
        "  if unit==\"kg\":\n",
        "    return value * 2.20462\n",
        "  elif unit==\"lbs\":\n",
        "    return value * 0.453592\n",
        "  else:\n",
        "    raise ValueError(\"Invalid unit. Use 'kg' or 'lbs'.\")\n",
        "\n",
        "def Volume(unit,value):\n",
        "  if unit==\"L\":\n",
        "    return value * 0.26417\n",
        "  elif unit==\"gal\":\n",
        "    return value * 3.78541\n",
        "  else:\n",
        "    raise ValueError(\"Invalid unit. Use 'L' or 'gal'.\")\n",
        "\n",
        "\n",
        "def main():\n",
        "  print(\"Choose a type of conversion: \\n 1.Length(m<->ft) \\n 2.Weight(kg<->lbs) \\n 3.Volume(L<->gal)\")\n",
        "  try:\n",
        "    choice = int(input(\"Enter your choice(1-3): \"));\n",
        "    if choice==1:\n",
        "      unit= input(\"Enter unit (m/ft): \").lower()\n",
        "      value= float(input(\"Enter value: \"))\n",
        "      result= Length(unit,value)\n",
        "      converted_unit=\"ft\" if unit ==\"m\" else \"m\"\n",
        "    elif choice==2:\n",
        "      unit= input(\"Enter unit (kg/lbs): \").lower()\n",
        "      value= float(input(\"Enter value: \"))\n",
        "      result= Weight(unit,value)\n",
        "      converted_unit=\"lbs\" if unit ==\"kg\" else \"kg\"\n",
        "    elif choice==3:\n",
        "      unit= input(\"Enter unit (L/gal): \").lower()\n",
        "      value= float(input(\"Enter value: \"))\n",
        "      result= Volume(unit,value)\n",
        "      converted_unit=\"gal\" if unit ==\"L\" else \"L\"\n",
        "    else:\n",
        "      print(\"Invalid choice\")\n",
        "      return\n",
        "\n",
        "    print(f\"Converted Value: {result:.2f} {converted_unit}\")\n",
        "  except ValueError:\n",
        "    print(\"Invalid input. Please enter a valid number.\")\n",
        "  except Exception as e:\n",
        "    print(f\"An error occurred: {e}\")\n",
        "\n",
        "if __name__==\"__main__\":\n",
        "  main()"
      ],
      "metadata": {
        "colab": {
          "base_uri": "https://localhost:8080/"
        },
        "id": "5g9vSLw9kas2",
        "outputId": "37749648-d688-451a-bf07-2b26d955e72e"
      },
      "execution_count": 11,
      "outputs": [
        {
          "output_type": "stream",
          "name": "stdout",
          "text": [
            "Choose a type of conversion: \n",
            " 1.Length(m<->ft) \n",
            " 2.Weight(kg<->lbs) \n",
            " 3.Volume(L<->gal)\n",
            "Enter your choice(1-3): 1\n",
            "Enter unit (m/ft): m\n",
            "Enter value: 150\n",
            "Converted Value: 492.13 ft\n"
          ]
        }
      ]
    },
    {
      "cell_type": "markdown",
      "source": [
        "# Task - 2:\n",
        "Create a Python program that performs various mathematical operations on a list of numbers.\n",
        "• The Program should:\n",
        "1. Prompt the user to choose an operation (e.g., find the sum, average, maximum, or minimum\n",
        "of the numbers).\n",
        "2. Ask the user to input a list of numbers (separated by spaces).\n",
        "3. Perform the selected operation and display the result.\n",
        "4. Handle potential errors, such as invalid input or empty lists.\n",
        "\n",
        "• Requirements:\n",
        "1. Functions: Define at least one function for each operation (sum, average, maximum, mini-\n",
        "mum).\n",
        "2. Error Handling: Use try-except blocks to handle invalid input (e.g., non-numeric values or\n",
        "empty lists).\n",
        "3. User Input: Prompt the user to select the operation and input the list of numbers.\n",
        "4. Docstrings: Include a docstring in each function to describe its purpose, parameters, and\n",
        "return value."
      ],
      "metadata": {
        "id": "Xba4SL8jqtEO"
      }
    },
    {
      "cell_type": "code",
      "source": [
        "def calculate_sum(numbers):\n",
        "    print(f\"Calculating sum for: {numbers}\")\n",
        "    return sum(numbers)\n",
        "\n",
        "def calculate_average(numbers):\n",
        "    print(f\"Calculating average for: {numbers}\")\n",
        "    return sum(numbers) / len(numbers) if numbers else 0\n",
        "\n",
        "def find_maximum(numbers):\n",
        "    print(f\"Finding maximum for: {numbers}\")\n",
        "    return max(numbers)\n",
        "\n",
        "def find_minimum(numbers):\n",
        "    print(f\"Finding minimum for: {numbers}\")\n",
        "    return min(numbers)\n",
        "\n",
        "\n",
        "def main():\n",
        "    print(\"Choose an operation: \\n1.Sum \\n2.Average \\n3.Maximum \\n4.Minimum\")\n",
        "    try:\n",
        "        choice = int(input(\"Enter your choice(1-4): \"))\n",
        "        if choice not in [1, 2, 3, 4]:\n",
        "            print(\"Invalid choice. Number should be between 1 and 4.\")\n",
        "            return\n",
        "\n",
        "        numbers = input(\"Enter a list of numbers (separated by spaces): \").split()\n",
        "        if not numbers:  # Handle case where input is empty\n",
        "            print(\"Invalid input. Please enter a non-empty list of numbers.\")\n",
        "            return\n",
        "\n",
        "        numbers = [float(num) for num in numbers]\n",
        "\n",
        "        if choice == 1:\n",
        "            result = calculate_sum(numbers)\n",
        "            print(f\"Sum: {result}\")\n",
        "        elif choice == 2:\n",
        "            result = calculate_average(numbers)\n",
        "            print(f\"Average: {result}\")\n",
        "        elif choice == 3:\n",
        "            result = find_maximum(numbers)\n",
        "            print(f\"Maximum: {result}\")\n",
        "        elif choice == 4:\n",
        "            result = find_minimum(numbers)\n",
        "            print(f\"Minimum: {result}\")\n",
        "\n",
        "    except ValueError:\n",
        "        print(\"Invalid input. Please enter numeric values only.\")\n",
        "    except Exception as e:\n",
        "        print(f\"An error occurred: {e}\")\n",
        "\n",
        "if __name__ == \"__main__\":\n",
        "    main()\n"
      ],
      "metadata": {
        "colab": {
          "base_uri": "https://localhost:8080/"
        },
        "id": "hEhWhBEJmNWO",
        "outputId": "fcd62ab8-766c-421e-ef33-98996fc14c02"
      },
      "execution_count": 12,
      "outputs": [
        {
          "output_type": "stream",
          "name": "stdout",
          "text": [
            "Choose an operation: \n",
            "1.Sum \n",
            "2.Average \n",
            "3.Maximum \n",
            "4.Minimum\n",
            "Enter your choice(1-4): 1\n",
            "Enter a list of numbers (separated by spaces): 5 4\n",
            "Calculating sum for: [5.0, 4.0]\n",
            "Sum: 9.0\n"
          ]
        }
      ]
    },
    {
      "cell_type": "markdown",
      "source": [
        "# 4.2 Exercise on List Manipulation:"
      ],
      "metadata": {
        "id": "xgrbokoc_5qr"
      }
    },
    {
      "cell_type": "markdown",
      "source": [
        "1. Extract Every Other Element:\n",
        "\n",
        "Write a Python function that extracts every other element from a list, starting from the first element."
      ],
      "metadata": {
        "id": "1cl-Y83R_7Ww"
      }
    },
    {
      "cell_type": "code",
      "source": [
        "def extract_every_other(lst):\n",
        "  return lst[::2]\n",
        "\n",
        "print(extract_every_other([1,2,3,4,5,6]))"
      ],
      "metadata": {
        "colab": {
          "base_uri": "https://localhost:8080/"
        },
        "id": "yDPP1dd7zzxY",
        "outputId": "8e22f263-8c9f-4ad3-9e97-9b6ba7a84e11"
      },
      "execution_count": 13,
      "outputs": [
        {
          "output_type": "stream",
          "name": "stdout",
          "text": [
            "[1, 3, 5]\n"
          ]
        }
      ]
    },
    {
      "cell_type": "markdown",
      "source": [
        "2. Slice a Sublist:\n",
        "\n",
        "Write a Python function that returns a sublist from a given list, starting from a specified index and\n",
        "ending at another specified index."
      ],
      "metadata": {
        "id": "1SNKKI2GAC8d"
      }
    },
    {
      "cell_type": "code",
      "source": [
        "def get_sublist(lst, start, end):\n",
        "  return lst[start:end+1]\n",
        "\n",
        "print(get_sublist([1,2,3,4,5,6],2,4))"
      ],
      "metadata": {
        "colab": {
          "base_uri": "https://localhost:8080/"
        },
        "id": "FprWNCJLAFkE",
        "outputId": "e7f24da0-6368-4b76-fff4-cf38cca185fb"
      },
      "execution_count": 14,
      "outputs": [
        {
          "output_type": "stream",
          "name": "stdout",
          "text": [
            "[3, 4, 5]\n"
          ]
        }
      ]
    },
    {
      "cell_type": "markdown",
      "source": [
        "3. Reverse a List Using Slicing:\n",
        "\n",
        "Write a Python function that reverses a list using slicing."
      ],
      "metadata": {
        "id": "pqD9PwtVA1Zf"
      }
    },
    {
      "cell_type": "code",
      "source": [
        "def reverse_list(lst):\n",
        "  return lst[::-1];\n",
        "\n",
        "print(reverse_list([1,2,3,4,5]))"
      ],
      "metadata": {
        "colab": {
          "base_uri": "https://localhost:8080/"
        },
        "id": "to0HnD9JA2xI",
        "outputId": "dc75710c-7ca5-41eb-f61c-2ce6a93f95f4"
      },
      "execution_count": 15,
      "outputs": [
        {
          "output_type": "stream",
          "name": "stdout",
          "text": [
            "[5, 4, 3, 2, 1]\n"
          ]
        }
      ]
    },
    {
      "cell_type": "markdown",
      "source": [
        "4. Remove the First and Last Elements:\n",
        "\n",
        "Write a Python function that removes the first and last elements of a list and returns the resulting\n",
        "sublist."
      ],
      "metadata": {
        "id": "qOBeKn__Bob9"
      }
    },
    {
      "cell_type": "code",
      "source": [
        "def remove_first_last(lst):\n",
        "  return lst[1:-1]\n",
        "\n",
        "print(remove_first_last([1,2,3,4,5]))"
      ],
      "metadata": {
        "colab": {
          "base_uri": "https://localhost:8080/"
        },
        "id": "8bHEM3eaBpkL",
        "outputId": "5699a908-c32d-4f1a-ec59-4de23dfd9ccd"
      },
      "execution_count": 16,
      "outputs": [
        {
          "output_type": "stream",
          "name": "stdout",
          "text": [
            "[2, 3, 4]\n"
          ]
        }
      ]
    },
    {
      "cell_type": "markdown",
      "source": [
        "5. Get the First n Elements:\n",
        "\n",
        "Write a Python function that extracts the first n elements from a list."
      ],
      "metadata": {
        "id": "zs4V-iE7CjDT"
      }
    },
    {
      "cell_type": "code",
      "source": [
        "def get_first_n(lst,n):\n",
        "  return lst[0:n]\n",
        "\n",
        "print(get_first_n([1,2,3,4,5],3))"
      ],
      "metadata": {
        "colab": {
          "base_uri": "https://localhost:8080/"
        },
        "id": "STGaU3HgCjfc",
        "outputId": "78d5d000-ca18-4a02-ceed-d149c559d3ab"
      },
      "execution_count": 17,
      "outputs": [
        {
          "output_type": "stream",
          "name": "stdout",
          "text": [
            "[1, 2, 3]\n"
          ]
        }
      ]
    },
    {
      "cell_type": "markdown",
      "source": [
        "6. Extract Elements from the End:\n",
        "\n",
        "Write a Python function that extracts the last n elements of a list using slicing."
      ],
      "metadata": {
        "id": "uMXQR7-5C7Og"
      }
    },
    {
      "cell_type": "code",
      "source": [
        "def get_last_n(lst,n):\n",
        "  return lst[-n:]\n",
        "\n",
        "print(get_last_n([1,2,3,4,5],3))"
      ],
      "metadata": {
        "colab": {
          "base_uri": "https://localhost:8080/"
        },
        "id": "3eeDgPNVC69x",
        "outputId": "19268508-d608-4fd2-875d-26c61ee7aa7a"
      },
      "execution_count": 18,
      "outputs": [
        {
          "output_type": "stream",
          "name": "stdout",
          "text": [
            "[3, 4, 5]\n"
          ]
        }
      ]
    },
    {
      "cell_type": "markdown",
      "source": [
        "7. Extract Elements in Reverse Order:\n",
        "\n",
        "Write a Python function that extracts a list of elements in reverse order starting from the second-to-last\n",
        "element and skipping one element in between."
      ],
      "metadata": {
        "id": "nxjQtiOvGpQ6"
      }
    },
    {
      "cell_type": "code",
      "source": [
        "def reverse_skip(lst):\n",
        "  return lst[-2::-2]\n",
        "\n",
        "print(reverse_skip([1,2,3,4,5,6]))"
      ],
      "metadata": {
        "colab": {
          "base_uri": "https://localhost:8080/"
        },
        "id": "bgx0nb6ZGoUv",
        "outputId": "884db98c-0894-46db-dc1d-ac201cac4cd7"
      },
      "execution_count": 19,
      "outputs": [
        {
          "output_type": "stream",
          "name": "stdout",
          "text": [
            "[5, 3, 1]\n"
          ]
        }
      ]
    },
    {
      "cell_type": "markdown",
      "source": [
        "# Exercise on Nested List:"
      ],
      "metadata": {
        "id": "MUwnr0ZaHWIX"
      }
    },
    {
      "cell_type": "markdown",
      "source": [
        "1. Flatten a Nested List:\n",
        "\n",
        "Write a Python function that takes a nested list and flattens it into a single list, where all the elements\n",
        "are in a single dimension."
      ],
      "metadata": {
        "id": "3-ugEJbIHY9V"
      }
    },
    {
      "cell_type": "code",
      "source": [
        "def flatten(lst):\n",
        "  flat_list=[]\n",
        "  for sublist in lst:\n",
        "    flat_list.extend(sublist)\n",
        "  return flat_list\n",
        "\n",
        "print(flatten([[1,2],[3,4],[5]]))"
      ],
      "metadata": {
        "colab": {
          "base_uri": "https://localhost:8080/"
        },
        "id": "8014c0zrHYKc",
        "outputId": "6a29046d-62a0-48de-be75-e191c0c34524"
      },
      "execution_count": 20,
      "outputs": [
        {
          "output_type": "stream",
          "name": "stdout",
          "text": [
            "[1, 2, 3, 4, 5]\n"
          ]
        }
      ]
    },
    {
      "cell_type": "markdown",
      "source": [
        "2. Accessing Nested List Elements:\n",
        "\n",
        "Write a Python function that extracts a specific element from a nested list given its indices."
      ],
      "metadata": {
        "id": "vCxQ0GM1IuBT"
      }
    },
    {
      "cell_type": "code",
      "source": [
        "def access_nested_element(lst, indices):\n",
        "  return lst[indices[0]][indices[1]]\n",
        "\n",
        "print(access_nested_element([[1,2,3],[4,5,6],[7,8,9]],[1,2]))"
      ],
      "metadata": {
        "colab": {
          "base_uri": "https://localhost:8080/"
        },
        "id": "69X1ra_OIya5",
        "outputId": "924099a2-f8da-467f-a1f4-9423f076d740"
      },
      "execution_count": 21,
      "outputs": [
        {
          "output_type": "stream",
          "name": "stdout",
          "text": [
            "6\n"
          ]
        }
      ]
    },
    {
      "cell_type": "markdown",
      "source": [
        "3. Sum of All Elements in a Nested List:\n",
        "\n",
        "Write a Python function that calculates the sum of all the numbers in a nested list (regardless of depth)."
      ],
      "metadata": {
        "id": "O-nyFo2lKk8p"
      }
    },
    {
      "cell_type": "code",
      "source": [
        "def sum_nested(lst):\n",
        "    total = 0\n",
        "\n",
        "    for element in lst:\n",
        "        if isinstance(element, list):\n",
        "            total += sum_nested(element)\n",
        "        else:\n",
        "            total += element\n",
        "    return total\n",
        "print(sum_nested([[1, 2], [3, [4, 5]], 6]))"
      ],
      "metadata": {
        "colab": {
          "base_uri": "https://localhost:8080/"
        },
        "id": "6dmDevb3KwoG",
        "outputId": "ee6fabc3-d4f4-479c-d6d0-1b017e6e4892"
      },
      "execution_count": 22,
      "outputs": [
        {
          "output_type": "stream",
          "name": "stdout",
          "text": [
            "21\n"
          ]
        }
      ]
    },
    {
      "cell_type": "markdown",
      "source": [
        "4. Remove Specific Element from a Nested List:\n",
        "\n",
        "Write a Python function that removes all occurrences of a specific element from a nested list."
      ],
      "metadata": {
        "id": "ywqbD2W6qA_l"
      }
    },
    {
      "cell_type": "code",
      "source": [
        "def remove_element(lst, elem):\n",
        "  result=[]\n",
        "\n",
        "  for item in lst:\n",
        "    if isinstance(item, list):\n",
        "      filtered_sublist= remove_element(item, elem)\n",
        "      if filtered_sublist:\n",
        "        result.append(filtered_sublist)\n",
        "    elif item != elem:\n",
        "      result.append(item)\n",
        "  return result\n",
        "\n",
        "print(remove_element([[1,2],[3,2],[4,5]],2))"
      ],
      "metadata": {
        "colab": {
          "base_uri": "https://localhost:8080/"
        },
        "id": "hpVwlWW7qD3o",
        "outputId": "75302ff3-f29e-473d-a24f-aba1cffd6451"
      },
      "execution_count": 23,
      "outputs": [
        {
          "output_type": "stream",
          "name": "stdout",
          "text": [
            "[[1], [3], [4, 5]]\n"
          ]
        }
      ]
    },
    {
      "cell_type": "markdown",
      "source": [
        "5. Find the Maximum Element in a Nested List:\n",
        "\n",
        "Write a Python function that finds the maximum element in a nested list (regardless of depth).\n"
      ],
      "metadata": {
        "id": "6kEtZVGZrTpl"
      }
    },
    {
      "cell_type": "code",
      "source": [
        "def find_max(lst):\n",
        "    max_value = float('-inf')\n",
        "    for item in lst:\n",
        "        if isinstance(item, list):\n",
        "            max_value = max(max_value, find_max(item))\n",
        "        else:\n",
        "            max_value = max(max_value, item)\n",
        "\n",
        "    return max_value\n",
        "\n",
        "nested_list = [[1, 2], [3, [4, 5]], 6]\n",
        "print(find_max(nested_list))"
      ],
      "metadata": {
        "id": "4TfabUF9rTaR",
        "colab": {
          "base_uri": "https://localhost:8080/"
        },
        "outputId": "a340dda9-f302-43aa-c2fc-35d1d22cbaba"
      },
      "execution_count": 24,
      "outputs": [
        {
          "output_type": "stream",
          "name": "stdout",
          "text": [
            "6\n"
          ]
        }
      ]
    },
    {
      "cell_type": "markdown",
      "source": [
        "6. Count Occurrences of an Element in a Nested List:\n",
        "\n",
        "Write a Python function that counts how many times a specific element appears in a nested list."
      ],
      "metadata": {
        "id": "cByyzGEkrzj3"
      }
    },
    {
      "cell_type": "code",
      "source": [
        "def count_occurrences(lst, elem):\n",
        "    count = 0\n",
        "\n",
        "    for item in lst:\n",
        "        if isinstance(item, list):\n",
        "            count += count_occurrences(item, elem)\n",
        "        elif item == elem:\n",
        "            count += 1\n",
        "\n",
        "    return count\n",
        "lst = [[1, 2], [2, 3], [2, 4]]\n",
        "elem = 2\n",
        "print(f\"Occurrences of {elem}:\", count_occurrences(lst, elem))"
      ],
      "metadata": {
        "id": "AZQBVHlGr3lX",
        "colab": {
          "base_uri": "https://localhost:8080/"
        },
        "outputId": "0d148fca-edee-41a7-e9da-856b4d2e1e27"
      },
      "execution_count": 25,
      "outputs": [
        {
          "output_type": "stream",
          "name": "stdout",
          "text": [
            "Occurrences of 2: 3\n"
          ]
        }
      ]
    },
    {
      "cell_type": "markdown",
      "source": [
        "7. Flatten a List of Lists of Lists:\n",
        "\n",
        "Write a Python function that flattens a list of lists of lists into a single list, regardless of the depth."
      ],
      "metadata": {
        "id": "OxQpUNlir3_j"
      }
    },
    {
      "cell_type": "code",
      "source": [
        "def deep_flatten(lst):\n",
        "    flattened_list = []\n",
        "\n",
        "    for item in lst:\n",
        "        if isinstance(item, list):\n",
        "          flattened_list.extend(deep_flatten(item))\n",
        "        else:\n",
        "            flattened_list.append(item)\n",
        "\n",
        "    return flattened_list\n",
        "nested_list = [[[1, 2], [3, 4]], [[5, 6], [7, 8]]]\n",
        "print(deep_flatten(nested_list))"
      ],
      "metadata": {
        "id": "iUASqHG5r59u",
        "colab": {
          "base_uri": "https://localhost:8080/"
        },
        "outputId": "c41eb707-d5a6-417a-d320-a28a5f9dbfc8"
      },
      "execution_count": 26,
      "outputs": [
        {
          "output_type": "stream",
          "name": "stdout",
          "text": [
            "[1, 2, 3, 4, 5, 6, 7, 8]\n"
          ]
        }
      ]
    },
    {
      "cell_type": "markdown",
      "source": [
        "8. Nested List Average:\n",
        "\n",
        "Write a Python function that calculates the average of all elements in a nested list."
      ],
      "metadata": {
        "id": "29mBeEl3r6O_"
      }
    },
    {
      "cell_type": "code",
      "source": [
        "def average_nested(lst):\n",
        "    total_sum = 0\n",
        "    total_count = 0\n",
        "    def helper(sublist):\n",
        "        nonlocal total_sum, total_count\n",
        "        for item in sublist:\n",
        "            if isinstance(item, list):\n",
        "                helper(item)\n",
        "            else:\n",
        "                total_sum += item\n",
        "                total_count += 1\n",
        "    helper(lst)\n",
        "    return total_sum / total_count if total_count > 0 else 0\n",
        "nested_list = [[1, 2], [3, 4], [5, 6]]\n",
        "print(average_nested(nested_list))\n"
      ],
      "metadata": {
        "id": "Sl005GGkr_G_",
        "colab": {
          "base_uri": "https://localhost:8080/"
        },
        "outputId": "6a3eb9b8-b1a0-4502-d896-e7f3d18ad082"
      },
      "execution_count": 27,
      "outputs": [
        {
          "output_type": "stream",
          "name": "stdout",
          "text": [
            "3.5\n"
          ]
        }
      ]
    },
    {
      "cell_type": "markdown",
      "source": [
        "# About a Numpy."
      ],
      "metadata": {
        "id": "LIu5pdLer_qp"
      }
    },
    {
      "cell_type": "code",
      "source": [
        "import numpy as np\n",
        "# initialize an all zero array with size 2 X 3:\n",
        "zeros_arr = np.zeros((2,3))\n",
        "print(\" A zeros array is \\n\", zeros_arr, \"with dimensions\", zeros_arr.shape, \"\\n\")"
      ],
      "metadata": {
        "id": "kcECyBdJtfy7",
        "outputId": "3d0d8c90-8861-4d4a-ad85-190abdea9518",
        "colab": {
          "base_uri": "https://localhost:8080/"
        }
      },
      "execution_count": 28,
      "outputs": [
        {
          "output_type": "stream",
          "name": "stdout",
          "text": [
            " A zeros array is \n",
            " [[0. 0. 0.]\n",
            " [0. 0. 0.]] with dimensions (2, 3) \n",
            "\n"
          ]
        }
      ]
    },
    {
      "cell_type": "code",
      "source": [
        "import numpy as np\n",
        "# initialize an all zero array with size 2 X 3:\n",
        "zeros_arr = np.zeros((2,3))\n",
        "print(\" A zeros array is \\n\", zeros_arr, \"with dimensions\", zeros_arr.shape, \"\\n\")"
      ],
      "metadata": {
        "id": "0qAq8EB-tiMZ",
        "outputId": "5820bb4e-d2d4-40c2-bb1c-913146630d6d",
        "colab": {
          "base_uri": "https://localhost:8080/"
        }
      },
      "execution_count": 29,
      "outputs": [
        {
          "output_type": "stream",
          "name": "stdout",
          "text": [
            " A zeros array is \n",
            " [[0. 0. 0.]\n",
            " [0. 0. 0.]] with dimensions (2, 3) \n",
            "\n"
          ]
        }
      ]
    },
    {
      "cell_type": "code",
      "source": [
        "import numpy as np\n",
        "# Create and display zero, one, and n-dimensional arrays\n",
        "zero_dim_array = np.array(5)\n",
        "one_dim_array = np.array([1, 2, 3])\n",
        "n_dim_array = np.array([[1, 2], [3, 4]])\n",
        "for arr in [zero_dim_array, one_dim_array, n_dim_array]:\n",
        "  print(f\"Array:\\n{arr}\\nDimension: {arr.ndim}\\nData type: {arr.dtype}\\n\")"
      ],
      "metadata": {
        "colab": {
          "base_uri": "https://localhost:8080/"
        },
        "id": "kMmTJSzq-U5O",
        "outputId": "d125a939-989c-4f03-db75-0f38044c89fc"
      },
      "execution_count": 30,
      "outputs": [
        {
          "output_type": "stream",
          "name": "stdout",
          "text": [
            "Array:\n",
            "5\n",
            "Dimension: 0\n",
            "Data type: int64\n",
            "\n",
            "Array:\n",
            "[1 2 3]\n",
            "Dimension: 1\n",
            "Data type: int64\n",
            "\n",
            "Array:\n",
            "[[1 2]\n",
            " [3 4]]\n",
            "Dimension: 2\n",
            "Data type: int64\n",
            "\n"
          ]
        }
      ]
    },
    {
      "cell_type": "code",
      "source": [
        "# For a 1-D array:\n",
        "import numpy as np\n",
        "arr_1d = np.array([1, 2, 3, 4, 5])\n",
        "print(arr_1d.ndim) # Output: 1\n",
        "# For a 2-D array:\n",
        "arr_2d = np.array([[1, 2, 3],\n",
        "[4, 5, 6]])\n",
        "print(arr_2d.ndim) # Output: 2\n",
        "#For a 3-D array:\n",
        "arr_3d = np.array([[[1, 2, 3],\n",
        "[4, 5, 6]],\n",
        "[[7, 8, 9],\n",
        "[10, 11, 12]]])\n",
        "print(arr_3d.ndim) # Output: 3"
      ],
      "metadata": {
        "colab": {
          "base_uri": "https://localhost:8080/"
        },
        "id": "IVa0skMi-eIU",
        "outputId": "ec1860a9-5c0f-4292-9b26-b3dc610c52ec"
      },
      "execution_count": 31,
      "outputs": [
        {
          "output_type": "stream",
          "name": "stdout",
          "text": [
            "1\n",
            "2\n",
            "3\n"
          ]
        }
      ]
    },
    {
      "cell_type": "code",
      "source": [
        "print(arr_1d.shape) # Output: (5,)\n",
        "print(arr_2d.shape) # Output: (2, 3)\n",
        "print(arr_3d.shape) # Output: (2, 2, 3)"
      ],
      "metadata": {
        "colab": {
          "base_uri": "https://localhost:8080/"
        },
        "id": "plx_PF92-gBS",
        "outputId": "81b0a202-b7ac-4466-d92b-7fda843ffdcd"
      },
      "execution_count": 32,
      "outputs": [
        {
          "output_type": "stream",
          "name": "stdout",
          "text": [
            "(5,)\n",
            "(2, 3)\n",
            "(2, 2, 3)\n"
          ]
        }
      ]
    },
    {
      "cell_type": "code",
      "source": [
        "print(arr_1d.size) # Output: 5\n",
        "print(arr_2d.size) # Output: 6\n",
        "print(arr_3d.size) # Output: 12"
      ],
      "metadata": {
        "colab": {
          "base_uri": "https://localhost:8080/"
        },
        "id": "Z_SQQbxr-k2s",
        "outputId": "c79e3b9b-324b-4051-880c-9aaf351cfa61"
      },
      "execution_count": 33,
      "outputs": [
        {
          "output_type": "stream",
          "name": "stdout",
          "text": [
            "5\n",
            "6\n",
            "12\n"
          ]
        }
      ]
    },
    {
      "cell_type": "code",
      "source": [
        "print(arr_1d.dtype) # Output: int64 (or int32)\n",
        "arr_float = np.array([1.1, 2.2, 3.3])\n",
        "print(arr_float.dtype) # Output: float64"
      ],
      "metadata": {
        "colab": {
          "base_uri": "https://localhost:8080/"
        },
        "id": "1hJLcvN--mjo",
        "outputId": "3bf061eb-9fc0-485a-b41b-17524c34fde6"
      },
      "execution_count": 34,
      "outputs": [
        {
          "output_type": "stream",
          "name": "stdout",
          "text": [
            "int64\n",
            "float64\n"
          ]
        }
      ]
    },
    {
      "cell_type": "code",
      "source": [
        "print(arr_1d.itemsize) # Output: 8 (for int64)"
      ],
      "metadata": {
        "colab": {
          "base_uri": "https://localhost:8080/"
        },
        "id": "o4gFC65x-nzC",
        "outputId": "02b089dc-bed0-4802-b97e-193f5931cebc"
      },
      "execution_count": 35,
      "outputs": [
        {
          "output_type": "stream",
          "name": "stdout",
          "text": [
            "8\n"
          ]
        }
      ]
    },
    {
      "cell_type": "code",
      "source": [
        "print(arr_1d.nbytes) # Output: 40 (5 elements \\times 8 bytes each for int64)"
      ],
      "metadata": {
        "colab": {
          "base_uri": "https://localhost:8080/"
        },
        "id": "5S0oVdU7-pR4",
        "outputId": "d70d0179-ccc3-4944-fe2d-839bd082e339"
      },
      "execution_count": 36,
      "outputs": [
        {
          "output_type": "stream",
          "name": "stdout",
          "text": [
            "40\n"
          ]
        }
      ]
    },
    {
      "cell_type": "code",
      "source": [
        "print(arr_2d.T)\n"
      ],
      "metadata": {
        "colab": {
          "base_uri": "https://localhost:8080/"
        },
        "id": "geCtn6d0-qz6",
        "outputId": "11457950-7a30-472f-d095-9a811d21e2bf"
      },
      "execution_count": 37,
      "outputs": [
        {
          "output_type": "stream",
          "name": "stdout",
          "text": [
            "[[1 4]\n",
            " [2 5]\n",
            " [3 6]]\n"
          ]
        }
      ]
    },
    {
      "cell_type": "code",
      "source": [
        "for item in arr_2d.flat:\n",
        "  print(item, end=\" \") # Output: 1 2 3 4 5 6"
      ],
      "metadata": {
        "colab": {
          "base_uri": "https://localhost:8080/"
        },
        "id": "MKw2w2CJ-sOy",
        "outputId": "c0b728e1-4e38-4efe-c8a0-7dcd926823bf"
      },
      "execution_count": 38,
      "outputs": [
        {
          "output_type": "stream",
          "name": "stdout",
          "text": [
            "1 2 3 4 5 6 "
          ]
        }
      ]
    },
    {
      "cell_type": "code",
      "source": [
        "arr_complex = np.array([1+2j, 3+4j])\n",
        "print(arr_complex.real) # Output: [1. 3.]\n",
        "print(arr_complex.imag) # Output: [2. 4.]"
      ],
      "metadata": {
        "colab": {
          "base_uri": "https://localhost:8080/"
        },
        "id": "aV6kpJ9b-u5q",
        "outputId": "17496f89-d852-4bd7-b5a3-0a8dd09eac65"
      },
      "execution_count": 39,
      "outputs": [
        {
          "output_type": "stream",
          "name": "stdout",
          "text": [
            "[1. 3.]\n",
            "[2. 4.]\n"
          ]
        }
      ]
    },
    {
      "cell_type": "code",
      "source": [
        "arr_float = arr_2d.astype(float)\n",
        "print(arr_float)\n",
        "# Output:\n",
        "# [[1. 2. 3.]\n",
        "# [4. 5. 6.]]"
      ],
      "metadata": {
        "colab": {
          "base_uri": "https://localhost:8080/"
        },
        "id": "27s3tTUD-xS4",
        "outputId": "1fa5b642-d169-4e08-bc25-710f7b44205a"
      },
      "execution_count": 40,
      "outputs": [
        {
          "output_type": "stream",
          "name": "stdout",
          "text": [
            "[[1. 2. 3.]\n",
            " [4. 5. 6.]]\n"
          ]
        }
      ]
    },
    {
      "cell_type": "code",
      "source": [
        "lst = [[1, 2], [3, 4]]\n",
        "# print(lst.shape)\n",
        "# Error: List has no .shape attribute\n",
        "#Fixing the Error:\n",
        "arr = np.array(lst)\n",
        "print(arr.shape) # Output: (2, 2)"
      ],
      "metadata": {
        "colab": {
          "base_uri": "https://localhost:8080/"
        },
        "id": "Zz4gRRN9-y8j",
        "outputId": "9e1d5659-f6a6-49cf-a8d7-37f39964056f"
      },
      "execution_count": 41,
      "outputs": [
        {
          "output_type": "stream",
          "name": "stdout",
          "text": [
            "(2, 2)\n"
          ]
        }
      ]
    },
    {
      "cell_type": "code",
      "source": [
        "arr = np.array([1, 2, 3])\n",
        "# print(arr.shape[1]) # Error: 1D array only has one dimension\n",
        "# Fixing the Error\n",
        "if len(arr.shape) > 1:\n",
        "  print(arr.shape[1]) # Access only if it’s valid"
      ],
      "metadata": {
        "id": "gCFULbca-4ww"
      },
      "execution_count": 42,
      "outputs": []
    },
    {
      "cell_type": "code",
      "source": [
        "arr = np.array([[1, 2, 3], [4, 5, 6]])\n",
        "# print(arr.shape()) # Error: .shape is an attribute, not a function\n",
        "print(arr.shape) # Correct usage"
      ],
      "metadata": {
        "colab": {
          "base_uri": "https://localhost:8080/"
        },
        "id": "q2zmwbpA-9na",
        "outputId": "5b5aacff-9c86-4971-fa4f-e991ef64f81c"
      },
      "execution_count": 43,
      "outputs": [
        {
          "output_type": "stream",
          "name": "stdout",
          "text": [
            "(2, 3)\n"
          ]
        }
      ]
    },
    {
      "cell_type": "code",
      "source": [
        "# Create an array with shape (2, 3)\n",
        "array = np.array([[1, 2, 3],\n",
        "[4, 5, 6]])\n",
        "\n",
        "# Reshape to (3, 2), keeping 6 elements\n",
        "reshaped_array = array.reshape(3, 2)\n",
        "print(\"Original Shape:\", array.shape, \"\\nReshaped Shape:\", reshaped_array.shape)\n",
        "# Expected Outputs:\n",
        "# Original Shape: (2, 3)"
      ],
      "metadata": {
        "colab": {
          "base_uri": "https://localhost:8080/"
        },
        "id": "A00e0VzO_BC2",
        "outputId": "6d7899ee-9031-4ef9-c79b-19bc089891b8"
      },
      "execution_count": 44,
      "outputs": [
        {
          "output_type": "stream",
          "name": "stdout",
          "text": [
            "Original Shape: (2, 3) \n",
            "Reshaped Shape: (3, 2)\n"
          ]
        }
      ]
    },
    {
      "cell_type": "code",
      "source": [
        "import numpy as np\n",
        "a = np.arange(1, 10)\n",
        "print(a)\n",
        "x = range(1, 10)\n",
        "print(x) # x is an iterator\n",
        "print(list(x))\n",
        "# further arange examples:\n",
        "x = np.arange(10.4)\n",
        "print(x)\n",
        "x = np.arange(0.5, 10.4, 0.8)\n",
        "print(x)"
      ],
      "metadata": {
        "colab": {
          "base_uri": "https://localhost:8080/"
        },
        "id": "wHYrilsC_NP-",
        "outputId": "8aa54857-053e-48c8-e280-181beb0960c1"
      },
      "execution_count": 45,
      "outputs": [
        {
          "output_type": "stream",
          "name": "stdout",
          "text": [
            "[1 2 3 4 5 6 7 8 9]\n",
            "range(1, 10)\n",
            "[1, 2, 3, 4, 5, 6, 7, 8, 9]\n",
            "[ 0.  1.  2.  3.  4.  5.  6.  7.  8.  9. 10.]\n",
            "[ 0.5  1.3  2.1  2.9  3.7  4.5  5.3  6.1  6.9  7.7  8.5  9.3 10.1]\n"
          ]
        }
      ]
    },
    {
      "cell_type": "code",
      "source": [
        "import numpy as np\n",
        "# Create arrays of specified shapes\n",
        "ones_array = np.ones((2, 3)) # Shape: (2, 3)\n",
        "zeros_array = np.zeros((3, 2)) # Shape: (3, 2)\n",
        "empty_array = np.empty((2, 2)) # Shape: (2, 2)\n",
        "identity_matrix = np.eye(3) # Shape: (3, 3)\n",
        "print(ones_array, zeros_array, empty_array, identity_matrix, sep='\\n\\n')"
      ],
      "metadata": {
        "colab": {
          "base_uri": "https://localhost:8080/"
        },
        "id": "_ks_a1Mi_RGu",
        "outputId": "fb675033-dcd1-40be-9369-1f9e197d724a"
      },
      "execution_count": 46,
      "outputs": [
        {
          "output_type": "stream",
          "name": "stdout",
          "text": [
            "[[1. 1. 1.]\n",
            " [1. 1. 1.]]\n",
            "\n",
            "[[0. 0.]\n",
            " [0. 0.]\n",
            " [0. 0.]]\n",
            "\n",
            "[[4.9e-324 9.9e-324]\n",
            " [1.5e-323 2.0e-323]]\n",
            "\n",
            "[[1. 0. 0.]\n",
            " [0. 1. 0.]\n",
            " [0. 0. 1.]]\n"
          ]
        }
      ]
    },
    {
      "cell_type": "code",
      "source": [
        "import numpy as np\n",
        "array_from_list = np.array([1, 2, 3]) # [1 2 3]\n",
        "array_from_tuple = np.array((4, 5, 6)) # [4 5 6]\n",
        "array_from_nested_list = np.array([[1, 2, 3], [4, 5, 6]]) # [[1 2 3] [4 5 6]]\n",
        "print(array_from_list, array_from_tuple, array_from_nested_list, sep='\\n')"
      ],
      "metadata": {
        "colab": {
          "base_uri": "https://localhost:8080/"
        },
        "id": "fBk-nADR_WF8",
        "outputId": "dacf180c-510a-4928-8789-52a54dac8f30"
      },
      "execution_count": 47,
      "outputs": [
        {
          "output_type": "stream",
          "name": "stdout",
          "text": [
            "[1 2 3]\n",
            "[4 5 6]\n",
            "[[1 2 3]\n",
            " [4 5 6]]\n"
          ]
        }
      ]
    },
    {
      "cell_type": "code",
      "source": [
        "import numpy as np\n",
        "# Existing Array of Shape:(2,3)\n",
        "arr = np.array([[1, 2, 3], [4, 5, 6]])\n",
        "# Creating Array with Shape of existing array:\n",
        "zeros, ones, empty = np.zeros(arr.shape), np.ones(arr.shape), np.empty(arr.shape) #\n",
        "Shape: (2,3)\n",
        "print(arr, zeros, ones, empty, sep='\\n')"
      ],
      "metadata": {
        "colab": {
          "base_uri": "https://localhost:8080/"
        },
        "id": "dZdnNw1b_cF-",
        "outputId": "13ccda2d-e381-4afd-e6e9-4284e05842ca"
      },
      "execution_count": 48,
      "outputs": [
        {
          "output_type": "stream",
          "name": "stdout",
          "text": [
            "[[1 2 3]\n",
            " [4 5 6]]\n",
            "[[0. 0. 0.]\n",
            " [0. 0. 0.]]\n",
            "[[1. 1. 1.]\n",
            " [1. 1. 1.]]\n",
            "[[2.47227954e-316 0.00000000e+000 0.00000000e+000]\n",
            " [8.95593996e-312 2.10966031e-321 4.23754071e-307]]\n"
          ]
        }
      ]
    },
    {
      "cell_type": "code",
      "source": [
        "import numpy as np\n",
        "arr1 = np.array([[1, 2], [3, 4]]) # Shape: (2, 2)\n",
        "arr2 = np.array([[5, 6], [7, 8]]) # Shape: (2, 2)\n",
        "# Stacking examples\n",
        "hstacked = np.hstack((arr1, arr2))\n",
        "# Output hstack: [[1 2 5 6] [3 4 7 8]]\n",
        "vstacked = np.vstack((arr1, arr2))\n",
        "# Output vstack[[1 2] [3 4] [5 6] [7 8]]\n",
        "colstacked = np.column_stack((arr1[0], arr2[0]))\n",
        "# Output column stack: [[1 5] [2 6]]\n",
        "print(hstacked, vstacked, colstacked, sep='\\n')"
      ],
      "metadata": {
        "colab": {
          "base_uri": "https://localhost:8080/"
        },
        "id": "G4f0fkHo_fkO",
        "outputId": "d5939e16-c8c3-49e4-a98a-264fd8a4e27c"
      },
      "execution_count": 49,
      "outputs": [
        {
          "output_type": "stream",
          "name": "stdout",
          "text": [
            "[[1 2 5 6]\n",
            " [3 4 7 8]]\n",
            "[[1 2]\n",
            " [3 4]\n",
            " [5 6]\n",
            " [7 8]]\n",
            "[[1 5]\n",
            " [2 6]]\n"
          ]
        }
      ]
    },
    {
      "cell_type": "code",
      "source": [
        "import numpy as np\n",
        "# Creating two 3D arrays\n",
        "arr1 = np.array([[[1], [2]], [[3], [4]]]) # Shape: (2, 2, 1)\n",
        "arr2 = np.array([[[5], [6]], [[7], [8]]]) # Shape: (2, 2, 1)\n",
        "# Concatenate along axis 0 (vertical stacking)\n",
        "concat_axis0 = np.concatenate((arr1, arr2), axis=0)\n",
        "# Shape of concat_axis0: (4, 2, 1), arr1 is stacked on top of arr2\n",
        "# Concatenate along axis 1 (horizontal stacking)\n",
        "concat_axis1 = np.concatenate((arr1, arr2), axis=1)\n",
        "# Shape of concat_axis1: (2, 4, 1), arr1 and arr2 are placed side by side\n",
        "# Concatenate along axis 2 (depth stacking)\n",
        "concat_axis2 = np.concatenate((arr1, arr2), axis=2)\n",
        "# Shape of concat_axis2: (2, 2, 2), arr1 and arr2 are stacked in depth (third dimension)\n",
        "# Displaying the results\n",
        "print(\"Concatenation along axis 0 (Vertical stacking):\\n\", concat_axis0)\n",
        "print(\"Shape of concatenated array along axis 0:\", concat_axis0.shape)\n",
        "print(\"\\nConcatenation along axis 1 (Horizontal stacking):\\n\", concat_axis1)\n",
        "print(\"Shape of concatenated array along axis 1:\", concat_axis1.shape)\n",
        "print(\"\\nConcatenation along axis 2 (Depth stacking):\\n\", concat_axis2)\n",
        "print(\"Shape of concatenated array along axis 2:\", concat_axis2.shape)"
      ],
      "metadata": {
        "colab": {
          "base_uri": "https://localhost:8080/"
        },
        "id": "f6yyXsm0_i46",
        "outputId": "3b15b8fe-fbfb-474b-aa30-0eabb66a0145"
      },
      "execution_count": 50,
      "outputs": [
        {
          "output_type": "stream",
          "name": "stdout",
          "text": [
            "Concatenation along axis 0 (Vertical stacking):\n",
            " [[[1]\n",
            "  [2]]\n",
            "\n",
            " [[3]\n",
            "  [4]]\n",
            "\n",
            " [[5]\n",
            "  [6]]\n",
            "\n",
            " [[7]\n",
            "  [8]]]\n",
            "Shape of concatenated array along axis 0: (4, 2, 1)\n",
            "\n",
            "Concatenation along axis 1 (Horizontal stacking):\n",
            " [[[1]\n",
            "  [2]\n",
            "  [5]\n",
            "  [6]]\n",
            "\n",
            " [[3]\n",
            "  [4]\n",
            "  [7]\n",
            "  [8]]]\n",
            "Shape of concatenated array along axis 1: (2, 4, 1)\n",
            "\n",
            "Concatenation along axis 2 (Depth stacking):\n",
            " [[[1 5]\n",
            "  [2 6]]\n",
            "\n",
            " [[3 7]\n",
            "  [4 8]]]\n",
            "Shape of concatenated array along axis 2: (2, 2, 2)\n"
          ]
        }
      ]
    },
    {
      "cell_type": "code",
      "source": [
        "import numpy as np\n",
        "# Incorrect shapes\n",
        "arr1 = np.array([[1, 2], [3, 4]]) # shape (2, 2)\n",
        "arr2 = np.array([5, 6]) # shape (2,)\n",
        "# Attempting horizontal stack\n",
        "try:\n",
        "  hstacked = np.hstack((arr1, arr2)) # Error due to dimension mismatch\n",
        "except ValueError as e:\n",
        "  print(f\"Error: {e}\")\n",
        "# Solution: Reshape arr2 to match arr1’s dimensions\n",
        "arr2 = np.array([5, 6]).reshape(2, 1) # shape (2, 1)\n",
        "hstacked = np.hstack((arr1, arr2)) # No error\n",
        "print(hstacked)"
      ],
      "metadata": {
        "colab": {
          "base_uri": "https://localhost:8080/"
        },
        "id": "7gBv8MNj_m_O",
        "outputId": "18919a35-cd1f-4a9b-aa95-70c7965e77d4"
      },
      "execution_count": 51,
      "outputs": [
        {
          "output_type": "stream",
          "name": "stdout",
          "text": [
            "Error: all the input arrays must have same number of dimensions, but the array at index 0 has 2 dimension(s) and the array at index 1 has 1 dimension(s)\n",
            "[[1 2 5]\n",
            " [3 4 6]]\n"
          ]
        }
      ]
    },
    {
      "cell_type": "code",
      "source": [
        "import numpy as np\n",
        "arr1 = np.array([[1, 2, 3], [4, 5, 6]]) # shape (2, 3)\n",
        "arr2 = np.array([[7, 8], [9, 10]]) # shape (2, 2)\n",
        "# Attempting horizontal stack (this will fail)\n",
        "try:\n",
        "  hstacked = np.hstack((arr1, arr2)) # Error due to shape mismatch\n",
        "except ValueError as e:\n",
        "  print(f\"Error: {e}\")\n",
        "# Solution: Make sure the number of rows in both arrays is the same before stacking\n",
        "arr2 = np.array([[7, 8, 9], [10, 11, 12]]) # shape (2, 3)\n",
        "hstacked = np.hstack((arr1, arr2)) # Works fine\n",
        "print(hstacked)"
      ],
      "metadata": {
        "colab": {
          "base_uri": "https://localhost:8080/"
        },
        "id": "9hU2ZbB1_sys",
        "outputId": "f8e89e5a-19f3-42e3-c8a6-9e7e42364287"
      },
      "execution_count": 52,
      "outputs": [
        {
          "output_type": "stream",
          "name": "stdout",
          "text": [
            "[[ 1  2  3  7  8  9]\n",
            " [ 4  5  6 10 11 12]]\n"
          ]
        }
      ]
    },
    {
      "cell_type": "code",
      "source": [
        "arr1 = np.array([[[1, 2], [3, 4]]]) # shape (1, 2, 2)\n",
        "arr2 = np.array([[5, 6], [7, 8]]) # shape (2, 2)\n",
        "# Attempting stacking with 3D and 2D arrays\n",
        "try:\n",
        "  vstacked = np.vstack((arr1, arr2)) # Error due to too many dimensions\n",
        "except ValueError as e:\n",
        "  print(f\"Error: {e}\")\n",
        "# Solution: Reshape arr1 to be 2D (or flatten it) before stacking\n",
        "arr1 = arr1.reshape(2, 2) # Now it’s shape (2, 2)\n",
        "vstacked = np.vstack((arr1, arr2)) # Works fine\n",
        "print(vstacked)"
      ],
      "metadata": {
        "colab": {
          "base_uri": "https://localhost:8080/"
        },
        "id": "HXHi3Ab5_yRO",
        "outputId": "0be10b32-6c8a-49f6-bbfa-0e3a87bf7087"
      },
      "execution_count": 53,
      "outputs": [
        {
          "output_type": "stream",
          "name": "stdout",
          "text": [
            "Error: all the input arrays must have same number of dimensions, but the array at index 0 has 3 dimension(s) and the array at index 1 has 2 dimension(s)\n",
            "[[1 2]\n",
            " [3 4]\n",
            " [5 6]\n",
            " [7 8]]\n"
          ]
        }
      ]
    },
    {
      "cell_type": "code",
      "source": [
        "import numpy as np\n",
        "# Creating a 2D array\n",
        "array = np.array([[1, 2, 3], [4, 5, 6], [7, 8, 9]])\n",
        "# Accessing elements using indexing\n",
        "print(array[0, 1]) # Output: 2 (first row, second column)\n",
        "print(array[-1, -1]) # Output: 9 (last row, last column)\n",
        "# Slicing the array\n",
        "print(array[0:2, 1:3]) # Output: [[2, 3], [5, 6]]"
      ],
      "metadata": {
        "colab": {
          "base_uri": "https://localhost:8080/"
        },
        "id": "53o8oTuz_4MU",
        "outputId": "be112f3a-b2cd-4e6b-aec9-0dbb536596e1"
      },
      "execution_count": 54,
      "outputs": [
        {
          "output_type": "stream",
          "name": "stdout",
          "text": [
            "2\n",
            "9\n",
            "[[2 3]\n",
            " [5 6]]\n"
          ]
        }
      ]
    },
    {
      "cell_type": "code",
      "source": [
        "import numpy as np\n",
        "# Creating a 2D array\n",
        "array = np.array([[1, 2, 3], [4, 5, 6]])\n",
        "# Attempting to access an element out of bounds\n",
        "try:\n",
        "  print(array[2, 1])\n",
        "except IndexError as e:\n",
        "  print(f\"Error: {e}\")"
      ],
      "metadata": {
        "colab": {
          "base_uri": "https://localhost:8080/"
        },
        "id": "Slas6TfQABy7",
        "outputId": "ccfb9e0e-a29f-4553-e2cf-76bd8b385938"
      },
      "execution_count": 55,
      "outputs": [
        {
          "output_type": "stream",
          "name": "stdout",
          "text": [
            "Error: index 2 is out of bounds for axis 0 with size 2\n"
          ]
        }
      ]
    },
    {
      "cell_type": "code",
      "source": [
        "import numpy as np\n",
        "# Example of basic ufuncs: square and square root\n",
        "arr = np.array([1, 4, 9, 16])\n",
        "# Square every element\n",
        "squared = np.square(arr)\n",
        "# Square root of every element\n",
        "sqrt = np.sqrt(arr)\n",
        "print(f\"Squared: {squared}\")\n",
        "print(f\"Square root: {sqrt}\")"
      ],
      "metadata": {
        "colab": {
          "base_uri": "https://localhost:8080/"
        },
        "id": "HwldTDh6AGB6",
        "outputId": "30a3a2b3-dde4-4eb9-e141-3cdd152728a9"
      },
      "execution_count": 56,
      "outputs": [
        {
          "output_type": "stream",
          "name": "stdout",
          "text": [
            "Squared: [  1  16  81 256]\n",
            "Square root: [1. 2. 3. 4.]\n"
          ]
        }
      ]
    },
    {
      "cell_type": "code",
      "source": [
        "import numpy as np\n",
        "# Trigonometric ufuncs\n",
        "angles = np.array([0, np.pi / 4, np.pi / 2])\n",
        "sine_values = np.sin(angles)\n",
        "# Logarithmic ufuncs\n",
        "log_values = np.log(arr)"
      ],
      "metadata": {
        "id": "sLqkkoZTAHu8"
      },
      "execution_count": 57,
      "outputs": []
    },
    {
      "cell_type": "code",
      "source": [
        "import numpy as np\n",
        "# Matrix multiplication\n",
        "A = np.array([[1, 2], [3, 4]])\n",
        "B = np.array([[5, 6], [7, 8]])\n",
        "product = np.dot(A, B)\n",
        "# Compute determinant\n",
        "det = np.linalg.det(A)\n",
        "# Compute inverse\n",
        "inverse = np.linalg.inv(A)\n",
        "# Compute eigenvalues and eigenvectors\n",
        "eigvals, eigvecs = np.linalg.eig(A)\n",
        "print(f\"Matrix Product:\\n{product}\")\n",
        "print(f\"Determinant: {det}\")\n",
        "print(f\"Inverse:\\n{inverse}\")\n",
        "print(f\"Eigenvalues: {eigvals}, Eigenvectors:\\n{eigvecs}\")"
      ],
      "metadata": {
        "colab": {
          "base_uri": "https://localhost:8080/"
        },
        "id": "ysyN-FNGAJpe",
        "outputId": "6fc0d9ef-7399-4100-fa1a-f92bdf749503"
      },
      "execution_count": 58,
      "outputs": [
        {
          "output_type": "stream",
          "name": "stdout",
          "text": [
            "Matrix Product:\n",
            "[[19 22]\n",
            " [43 50]]\n",
            "Determinant: -2.0000000000000004\n",
            "Inverse:\n",
            "[[-2.   1. ]\n",
            " [ 1.5 -0.5]]\n",
            "Eigenvalues: [-0.37228132  5.37228132], Eigenvectors:\n",
            "[[-0.82456484 -0.41597356]\n",
            " [ 0.56576746 -0.90937671]]\n"
          ]
        }
      ]
    },
    {
      "cell_type": "code",
      "source": [
        "import numpy as np\n",
        "import time\n",
        "# Create two large arrays\n",
        "size = 10**6\n",
        "a = np.random.rand(size)\n",
        "b = np.random.rand(size)\n",
        "# Using a loop\n",
        "start_time = time.time()\n",
        "result_loop = np.zeros(size)\n",
        "for i in range(size):\n",
        "  result_loop[i] = a[i] + b[i]\n",
        "end_time = time.time()\n",
        "loop_time = end_time - start_time\n",
        "print(f\"Loop Execution Time: {loop_time:.5f} seconds\")\n",
        "# Using NumPy’s vectorized operations\n",
        "start_time = time.time()\n",
        "result_vectorized = a + b # Element-wise addition\n",
        "end_time = time.time()\n",
        "vectorized_time = end_time - start_time\n",
        "print(f\"Vectorized Execution Time: {vectorized_time:.5f} seconds\")\n",
        "# Performance improvement factor\n",
        "speedup = loop_time / vectorized_time\n",
        "print(f\"Vectorization is approximately {speedup:.2f} times faster!\")"
      ],
      "metadata": {
        "colab": {
          "base_uri": "https://localhost:8080/"
        },
        "id": "8j8gS5HLANBh",
        "outputId": "65e384d6-48df-492f-ade6-07a3b6a07b67"
      },
      "execution_count": 59,
      "outputs": [
        {
          "output_type": "stream",
          "name": "stdout",
          "text": [
            "Loop Execution Time: 0.93132 seconds\n",
            "Vectorized Execution Time: 0.00525 seconds\n",
            "Vectorization is approximately 177.38 times faster!\n"
          ]
        }
      ]
    },
    {
      "cell_type": "markdown",
      "source": [
        "# To - Do - NumPy"
      ],
      "metadata": {
        "id": "ETP1Tu-_ASWo"
      }
    },
    {
      "cell_type": "markdown",
      "source": [
        "10.1 Basic Vector and Matrix Operation with Numpy."
      ],
      "metadata": {
        "id": "eV8rEDDHAU9R"
      }
    },
    {
      "cell_type": "markdown",
      "source": [
        "Problem - 1: Array Creation:"
      ],
      "metadata": {
        "id": "AmT6-SfCh7nL"
      }
    },
    {
      "cell_type": "code",
      "source": [
        "import numpy as np\n",
        "\n",
        "# 1. Initialize an empty array with size 2x2\n",
        "empty_array = np.empty((2, 2))\n",
        "print(\"Empty Array (2x2):\\n\", empty_array)\n",
        "\n",
        "# 2. Initialize an all-ones array with size 4x2\n",
        "ones_array = np.ones((4, 2))\n",
        "print(\"\\nAll Ones Array (4x2):\\n\", ones_array)\n",
        "\n",
        "# 3. Return a new array of given shape and type, filled with fill value\n",
        "fill_value = 7\n",
        "filled_array = np.full((3, 3), fill_value)\n",
        "print(\"\\nArray filled with\", fill_value, \":\\n\", filled_array)\n",
        "\n",
        "# 4. Return a new array of zeros with same shape and type as a given array\n",
        "sample_array = np.array([[1, 2, 3], [4, 5, 6]])\n",
        "zeros_like_array = np.zeros_like(sample_array)\n",
        "print(\"\\nZeros-like Array:\\n\", zeros_like_array)\n",
        "\n",
        "# 5. Return a new array of ones with same shape and type as a given array\n",
        "ones_like_array = np.ones_like(sample_array)\n",
        "print(\"\\nOnes-like Array:\\n\", ones_like_array)\n",
        "\n",
        "# 6. Convert an existing list to a numpy array\n",
        "new_list = [1, 2, 3, 4]\n",
        "numpy_array = np.array(new_list)\n",
        "print(\"\\nConverted NumPy Array:\\n\", numpy_array)"
      ],
      "metadata": {
        "colab": {
          "base_uri": "https://localhost:8080/"
        },
        "id": "jLXFiM7vAVXa",
        "outputId": "c4359510-311e-4f4c-ef8a-ce49d5fe9b3b"
      },
      "execution_count": 60,
      "outputs": [
        {
          "output_type": "stream",
          "name": "stdout",
          "text": [
            "Empty Array (2x2):\n",
            " [[0.82456484 0.41597356]\n",
            " [0.56576746 0.90937671]]\n",
            "\n",
            "All Ones Array (4x2):\n",
            " [[1. 1.]\n",
            " [1. 1.]\n",
            " [1. 1.]\n",
            " [1. 1.]]\n",
            "\n",
            "Array filled with 7 :\n",
            " [[7 7 7]\n",
            " [7 7 7]\n",
            " [7 7 7]]\n",
            "\n",
            "Zeros-like Array:\n",
            " [[0 0 0]\n",
            " [0 0 0]]\n",
            "\n",
            "Ones-like Array:\n",
            " [[1 1 1]\n",
            " [1 1 1]]\n",
            "\n",
            "Converted NumPy Array:\n",
            " [1 2 3 4]\n"
          ]
        }
      ]
    },
    {
      "cell_type": "markdown",
      "source": [
        "Problem - 2: Array Manipulation: Numerical Ranges and Array indexing:"
      ],
      "metadata": {
        "id": "f8GJKHkqh9S8"
      }
    },
    {
      "cell_type": "code",
      "source": [
        "import numpy as np\n",
        "\n",
        "# 1. Create an array with values ranging from 10 to 49\n",
        "array_range = np.arange(10, 50)\n",
        "print(\"Array with values from 10 to 49:\\n\", array_range)\n",
        "\n",
        "# 2. Create a 3X3 matrix with values ranging from 0 to 8\n",
        "matrix_3x3 = np.arange(9).reshape(3, 3)\n",
        "print(\"\\n3X3 Matrix with values from 0 to 8:\\n\", matrix_3x3)\n",
        "\n",
        "# 3. Create a 3X3 identity matrix\n",
        "identity_matrix = np.eye(3)\n",
        "print(\"\\n3X3 Identity Matrix:\\n\", identity_matrix)\n",
        "\n",
        "# 4. Create a random array of size 30 and find the mean of the array\n",
        "random_array = np.random.random(30)\n",
        "mean_value = random_array.mean()\n",
        "print(\"\\nMean of random array:\\n\", mean_value)\n",
        "\n",
        "# 5. Create a 10X10 array with random values and find the min & max values\n",
        "random_matrix = np.random.random((10, 10))\n",
        "min_value = random_matrix.min()\n",
        "max_value = random_matrix.max()\n",
        "print(\"\\nMinimum value in 10X10 matrix:\", min_value)\n",
        "print(\"Maximum value in 10X10 matrix:\", max_value)\n",
        "\n",
        "# 6. Create a zero array of size 10 and replace 5th element with 1\n",
        "zero_array = np.zeros(10)\n",
        "zero_array[4] = 1  # Index 4 is the 5th element (0-based index)\n",
        "print(\"\\nZero array with 5th element replaced by 1:\\n\", zero_array)\n",
        "\n",
        "# 7. Reverse an array arr = [1,2,0,0,4,0]\n",
        "arr = np.array([1, 2, 0, 0, 4, 0])\n",
        "reversed_arr = arr[::-1]\n",
        "print(\"\\nReversed array:\\n\", reversed_arr)\n",
        "\n",
        "# 8. Create a 2D array with 1 on the border and 0 inside\n",
        "border_array = np.ones((5, 5))\n",
        "border_array[1:-1, 1:-1] = 0\n",
        "print(\"\\n2D array with 1 on border and 0 inside:\\n\", border_array)\n",
        "\n",
        "# 9. Create an 8X8 matrix and fill it with a checkerboard pattern\n",
        "checkerboard = np.zeros((8, 8), dtype=int)\n",
        "checkerboard[1::2, ::2] = 1\n",
        "checkerboard[::2, 1::2] = 1\n",
        "print(\"\\n8X8 Checkerboard Pattern:\\n\", checkerboard)\n"
      ],
      "metadata": {
        "colab": {
          "base_uri": "https://localhost:8080/"
        },
        "id": "iJvwgkbHiAZ0",
        "outputId": "f4eff738-239a-403f-f4c3-131f7816c345"
      },
      "execution_count": 61,
      "outputs": [
        {
          "output_type": "stream",
          "name": "stdout",
          "text": [
            "Array with values from 10 to 49:\n",
            " [10 11 12 13 14 15 16 17 18 19 20 21 22 23 24 25 26 27 28 29 30 31 32 33\n",
            " 34 35 36 37 38 39 40 41 42 43 44 45 46 47 48 49]\n",
            "\n",
            "3X3 Matrix with values from 0 to 8:\n",
            " [[0 1 2]\n",
            " [3 4 5]\n",
            " [6 7 8]]\n",
            "\n",
            "3X3 Identity Matrix:\n",
            " [[1. 0. 0.]\n",
            " [0. 1. 0.]\n",
            " [0. 0. 1.]]\n",
            "\n",
            "Mean of random array:\n",
            " 0.44127680823190324\n",
            "\n",
            "Minimum value in 10X10 matrix: 0.004247053758072661\n",
            "Maximum value in 10X10 matrix: 0.993214493934577\n",
            "\n",
            "Zero array with 5th element replaced by 1:\n",
            " [0. 0. 0. 0. 1. 0. 0. 0. 0. 0.]\n",
            "\n",
            "Reversed array:\n",
            " [0 4 0 0 2 1]\n",
            "\n",
            "2D array with 1 on border and 0 inside:\n",
            " [[1. 1. 1. 1. 1.]\n",
            " [1. 0. 0. 0. 1.]\n",
            " [1. 0. 0. 0. 1.]\n",
            " [1. 0. 0. 0. 1.]\n",
            " [1. 1. 1. 1. 1.]]\n",
            "\n",
            "8X8 Checkerboard Pattern:\n",
            " [[0 1 0 1 0 1 0 1]\n",
            " [1 0 1 0 1 0 1 0]\n",
            " [0 1 0 1 0 1 0 1]\n",
            " [1 0 1 0 1 0 1 0]\n",
            " [0 1 0 1 0 1 0 1]\n",
            " [1 0 1 0 1 0 1 0]\n",
            " [0 1 0 1 0 1 0 1]\n",
            " [1 0 1 0 1 0 1 0]]\n"
          ]
        }
      ]
    },
    {
      "cell_type": "markdown",
      "source": [
        "Problem - 3: Array Operations:"
      ],
      "metadata": {
        "id": "5hjo_2p-iFj-"
      }
    },
    {
      "cell_type": "code",
      "source": [
        "import numpy as np\n",
        "\n",
        "# Given arrays\n",
        "x = np.array([[1, 2], [3, 5]])\n",
        "y = np.array([[5, 6], [7, 8]])\n",
        "v = np.array([9, 10])\n",
        "w = np.array([11, 12])\n",
        "\n",
        "# 1. Add the two arrays\n",
        "addition = x + y\n",
        "print(\"Addition of x and y:\\n\", addition)\n",
        "\n",
        "# 2. Subtract the two arrays\n",
        "subtraction = x - y\n",
        "print(\"\\nSubtraction of x and y:\\n\", subtraction)\n",
        "\n",
        "# 3. Multiply the array x with an integer\n",
        "multiplied_x = x * 3\n",
        "print(\"\\nMultiplication of x with 3:\\n\", multiplied_x)\n",
        "\n",
        "# 4. Find the square of each element of array x\n",
        "square_x = np.square(x)\n",
        "print(\"\\nSquare of each element in x:\\n\", square_x)\n",
        "\n",
        "# 5. Find the dot product\n",
        "dot_vw = np.dot(v, w)\n",
        "dot_xv = np.dot(x, v)\n",
        "dot_xy = np.dot(x, y)\n",
        "\n",
        "print(\"\\nDot product of v and w:\", dot_vw)\n",
        "print(\"Dot product of x and v:\\n\", dot_xv)\n",
        "print(\"Dot product of x and y:\\n\", dot_xy)\n",
        "\n",
        "# 6. Concatenate x and y along rows, and v and w along columns\n",
        "concat_xy_row = np.concatenate((x, y), axis=0)\n",
        "concat_vw_col = np.vstack((v, w))\n",
        "\n",
        "print(\"\\nConcatenation of x and y along rows:\\n\", concat_xy_row)\n",
        "print(\"\\nConcatenation of v and w along columns:\\n\", concat_vw_col)\n",
        "\n",
        "# 7. Attempt to concatenate x and v\n",
        "try:\n",
        "    concat_xv = np.concatenate((x, v), axis=0)\n",
        "    print(\"\\nConcatenation of x and v:\\n\", concat_xv)\n",
        "except ValueError as e:\n",
        "    print(\"\\nError while concatenating x and v:\", e)\n"
      ],
      "metadata": {
        "colab": {
          "base_uri": "https://localhost:8080/"
        },
        "id": "_KiLgzwKiG2C",
        "outputId": "e91ebc23-791c-4b69-8dc1-ca6733c446d4"
      },
      "execution_count": 62,
      "outputs": [
        {
          "output_type": "stream",
          "name": "stdout",
          "text": [
            "Addition of x and y:\n",
            " [[ 6  8]\n",
            " [10 13]]\n",
            "\n",
            "Subtraction of x and y:\n",
            " [[-4 -4]\n",
            " [-4 -3]]\n",
            "\n",
            "Multiplication of x with 3:\n",
            " [[ 3  6]\n",
            " [ 9 15]]\n",
            "\n",
            "Square of each element in x:\n",
            " [[ 1  4]\n",
            " [ 9 25]]\n",
            "\n",
            "Dot product of v and w: 219\n",
            "Dot product of x and v:\n",
            " [29 77]\n",
            "Dot product of x and y:\n",
            " [[19 22]\n",
            " [50 58]]\n",
            "\n",
            "Concatenation of x and y along rows:\n",
            " [[1 2]\n",
            " [3 5]\n",
            " [5 6]\n",
            " [7 8]]\n",
            "\n",
            "Concatenation of v and w along columns:\n",
            " [[ 9 10]\n",
            " [11 12]]\n",
            "\n",
            "Error while concatenating x and v: all the input arrays must have same number of dimensions, but the array at index 0 has 2 dimension(s) and the array at index 1 has 1 dimension(s)\n"
          ]
        }
      ]
    },
    {
      "cell_type": "markdown",
      "source": [
        "x is a 2×2 matrix (shape = (2,2)). v is a 1D array (shape = (2,)). When concatenating along axis=0 (rows), both arrays must have the same number of columns. Since x has two columns but v is a 1D array with no explicit columns, NumPy throws a shape mismatch error."
      ],
      "metadata": {
        "id": "FtWRwcJEiW8U"
      }
    },
    {
      "cell_type": "markdown",
      "source": [
        "Problem - 4: Matrix Operations:"
      ],
      "metadata": {
        "id": "7q4L1M8kicKC"
      }
    },
    {
      "cell_type": "code",
      "source": [
        "# For the following arrays:\n",
        "# A = np.array([[3,4],[7,8]]) and B = np.array([[5,3],[2,1]]);\n",
        "# Prove following with Numpy:\n",
        "A = np.array([[3, 4], [7, 8]])\n",
        "B = np.array([[5, 3], [2, 1]])"
      ],
      "metadata": {
        "id": "Ad9j0zY-icni"
      },
      "execution_count": 63,
      "outputs": []
    },
    {
      "cell_type": "code",
      "source": [
        "# 1. Prove A.A−1 = I.\n",
        "A_inv = np.linalg.inv(A)  # Find inverse of A\n",
        "identity_matrix = np.dot(A, A_inv)  # Multiply A with A^-1\n",
        "identity_matrix = np.round(identity_matrix, decimals=5)  # Round to avoid floating-point errors\n",
        "\n",
        "print(\"A * A^-1:\\n\", identity_matrix)\n"
      ],
      "metadata": {
        "colab": {
          "base_uri": "https://localhost:8080/"
        },
        "id": "3Ve3qJEGi-sk",
        "outputId": "c4be99a5-1d7e-4919-8aec-69e451d4d407"
      },
      "execution_count": 64,
      "outputs": [
        {
          "output_type": "stream",
          "name": "stdout",
          "text": [
            "A * A^-1:\n",
            " [[1. 0.]\n",
            " [0. 1.]]\n"
          ]
        }
      ]
    },
    {
      "cell_type": "code",
      "source": [
        "# 2. Prove AB ̸= BA.\n",
        "AB = np.dot(A, B)  # A * B\n",
        "BA = np.dot(B, A)  # B * A\n",
        "\n",
        "print(\"\\nAB:\\n\", AB)\n",
        "print(\"\\nBA:\\n\", BA)\n",
        "\n",
        "# Check if AB is equal to BA\n",
        "is_commutative = np.array_equal(AB, BA)\n",
        "print(\"\\nIs AB equal to BA?\", is_commutative)\n"
      ],
      "metadata": {
        "colab": {
          "base_uri": "https://localhost:8080/"
        },
        "id": "h7Ge3O1EjFb2",
        "outputId": "3b5067c1-a1eb-478d-c93f-3b2f3b322bfa"
      },
      "execution_count": 65,
      "outputs": [
        {
          "output_type": "stream",
          "name": "stdout",
          "text": [
            "\n",
            "AB:\n",
            " [[23 13]\n",
            " [51 29]]\n",
            "\n",
            "BA:\n",
            " [[36 44]\n",
            " [13 16]]\n",
            "\n",
            "Is AB equal to BA? False\n"
          ]
        }
      ]
    },
    {
      "cell_type": "code",
      "source": [
        "# 3. Prove (AB)^T = B^T*A^T\n",
        "AB_T = np.transpose(AB)  # (AB)^T\n",
        "BT_AT = np.dot(np.transpose(B), np.transpose(A))  # B^T * A^T\n",
        "\n",
        "print(\"\\n(AB)^T:\\n\", AB_T)\n",
        "print(\"\\nB^T * A^T:\\n\", BT_AT)\n",
        "\n",
        "# Check equality\n",
        "is_transpose_property = np.array_equal(AB_T, BT_AT)\n",
        "print(\"\\nIs (AB)^T equal to B^T * A^T?\", is_transpose_property)\n"
      ],
      "metadata": {
        "colab": {
          "base_uri": "https://localhost:8080/"
        },
        "id": "HPcYShpbjNl-",
        "outputId": "f406a170-da15-4802-ef54-e68810ef5acb"
      },
      "execution_count": 66,
      "outputs": [
        {
          "output_type": "stream",
          "name": "stdout",
          "text": [
            "\n",
            "(AB)^T:\n",
            " [[23 51]\n",
            " [13 29]]\n",
            "\n",
            "B^T * A^T:\n",
            " [[23 51]\n",
            " [13 29]]\n",
            "\n",
            "Is (AB)^T equal to B^T * A^T? True\n"
          ]
        }
      ]
    },
    {
      "cell_type": "code",
      "source": [
        "# Solve the following system of Linear equation using Inverse Methods.\n",
        "\n",
        "# 2x − 3y + z = −1\n",
        "# x − y + 2z = −3\n",
        "# 3x + y − z = 9\n",
        "\n",
        "\n",
        "# Coefficient matrix A\n",
        "A = np.array([\n",
        "    [2, -3, 1],\n",
        "    [1, -1, 2],\n",
        "    [3, 1, -1]\n",
        "])\n",
        "\n",
        "# Constant matrix B\n",
        "B = np.array([-1, -3, 9])\n",
        "A_inv = np.linalg.inv(A)  # Find inverse of A\n",
        "X = np.dot(A_inv, B)  # Compute X = A^-1 * B\n",
        "\n",
        "print(\"\\nSolution for x, y, z:\\n\", X)\n",
        "X = np.linalg.solve(A, B)\n",
        "print(\"\\nSolution using np.linalg.solve:\\n\", X)\n"
      ],
      "metadata": {
        "colab": {
          "base_uri": "https://localhost:8080/"
        },
        "id": "Rq1sxU0_jZP2",
        "outputId": "60946513-59a4-46f3-a26c-dffae56df356"
      },
      "execution_count": 67,
      "outputs": [
        {
          "output_type": "stream",
          "name": "stdout",
          "text": [
            "\n",
            "Solution for x, y, z:\n",
            " [ 2.  1. -2.]\n",
            "\n",
            "Solution using np.linalg.solve:\n",
            " [ 2.  1. -2.]\n"
          ]
        }
      ]
    },
    {
      "cell_type": "markdown",
      "source": [
        "10.2 Experiment: How Fast is Numpy?"
      ],
      "metadata": {
        "id": "OpzvqjhckEqN"
      }
    },
    {
      "cell_type": "markdown",
      "source": [
        "1. Element-wise Addition:"
      ],
      "metadata": {
        "id": "nveUb3fVkGAC"
      }
    },
    {
      "cell_type": "code",
      "source": [
        "# • Using Python Lists, perform element-wise addition of two lists of size 1, 000, 000. Measure and Print the time taken for this operation.\n",
        "import time\n",
        "import random\n",
        "size = 1_000_000\n",
        "list1 = [random.randint(1, 100) for _ in range(size)]\n",
        "list2 = [random.randint(1, 100) for _ in range(size)]\n",
        "start_time = time.time()\n",
        "result = [list1[i] + list2[i] for i in range(size)]\n",
        "end_time = time.time()\n",
        "print(f\"Time taken for element-wise addition of lists: {end_time - start_time:.5f} seconds\")\n"
      ],
      "metadata": {
        "colab": {
          "base_uri": "https://localhost:8080/"
        },
        "id": "IzqAQPcakmhJ",
        "outputId": "f2c01721-f9ba-4d12-c732-e322a7886c9c"
      },
      "execution_count": 68,
      "outputs": [
        {
          "output_type": "stream",
          "name": "stdout",
          "text": [
            "Time taken for element-wise addition of lists: 0.05683 seconds\n"
          ]
        }
      ]
    },
    {
      "cell_type": "code",
      "source": [
        "# Using Numpy Arrays, Repeat the calculation and measure and print the time taken for this operation.\n",
        "import numpy as np\n",
        "arr1 = np.random.randint(1, 100, size)\n",
        "arr2 = np.random.randint(1, 100, size)\n",
        "start_time = time.time()\n",
        "result_np = arr1 + arr2\n",
        "end_time = time.time()\n",
        "print(f\"Time taken using NumPy: {end_time - start_time:.5f} seconds\")"
      ],
      "metadata": {
        "colab": {
          "base_uri": "https://localhost:8080/"
        },
        "id": "AagY0tgakvcB",
        "outputId": "1d4a606b-bd21-424c-f3ba-4f14059e425d"
      },
      "execution_count": 69,
      "outputs": [
        {
          "output_type": "stream",
          "name": "stdout",
          "text": [
            "Time taken using NumPy: 0.00470 seconds\n"
          ]
        }
      ]
    },
    {
      "cell_type": "markdown",
      "source": [
        "2. Element-wise Multiplication"
      ],
      "metadata": {
        "id": "-Uy50UfFlrqC"
      }
    },
    {
      "cell_type": "code",
      "source": [
        "import time\n",
        "import random\n",
        "import numpy as np\n",
        "size = 1_000_000\n",
        "list1 = [random.randint(1, 100) for _ in range(size)]\n",
        "list2 = [random.randint(1, 100) for _ in range(size)]\n",
        "start_time_list_mul = time.time()\n",
        "result_list_mul = [list1[i] * list2[i] for i in range(size)]\n",
        "end_time_list_mul = time.time()\n",
        "time_list_mul = end_time_list_mul - start_time_list_mul\n",
        "print(f\"Time taken for element-wise multiplication using Python lists: {time_list_mul:.5f} seconds\")\n",
        "\n",
        "arr1 = np.random.randint(1, 100, size)\n",
        "arr2 = np.random.randint(1, 100, size)\n",
        "start_time_np_mul = time.time()\n",
        "result_np_mul = arr1 * arr2\n",
        "end_time_np_mul = time.time()\n",
        "time_np_mul = end_time_np_mul - start_time_np_mul\n",
        "\n",
        "print(f\"Time taken for element-wise multiplication using NumPy arrays: {time_np_mul:.5f} seconds\")\n"
      ],
      "metadata": {
        "colab": {
          "base_uri": "https://localhost:8080/"
        },
        "id": "KUGwTVjiluvy",
        "outputId": "cd671441-4572-4b36-9ef0-f349707158c1"
      },
      "execution_count": 70,
      "outputs": [
        {
          "output_type": "stream",
          "name": "stdout",
          "text": [
            "Time taken for element-wise multiplication using Python lists: 0.08511 seconds\n",
            "Time taken for element-wise multiplication using NumPy arrays: 0.00509 seconds\n"
          ]
        }
      ]
    },
    {
      "cell_type": "markdown",
      "source": [
        "3. Dot Product"
      ],
      "metadata": {
        "id": "8W8H9BBomceq"
      }
    },
    {
      "cell_type": "code",
      "source": [
        "import time\n",
        "import random\n",
        "import numpy as np\n",
        "size = 1_000_000\n",
        "list1 = [random.randint(1, 100) for _ in range(size)]\n",
        "list2 = [random.randint(1, 100) for _ in range(size)]\n",
        "\n",
        "start_time_list_dot = time.time()\n",
        "dot_product_list = sum(list1[i] * list2[i] for i in range(size))\n",
        "end_time_list_dot = time.time()\n",
        "time_list_dot = end_time_list_dot - start_time_list_dot\n",
        "\n",
        "print(f\"Time taken for dot product using Python lists: {time_list_dot:.5f} seconds\")\n",
        "\n",
        "arr1 = np.random.randint(1, 100, size)\n",
        "arr2 = np.random.randint(1, 100, size)\n",
        "\n",
        "start_time_np_dot = time.time()\n",
        "dot_product_np = np.dot(arr1, arr2)\n",
        "end_time_np_dot = time.time()\n",
        "time_np_dot = end_time_np_dot - start_time_np_dot\n",
        "\n",
        "print(f\"Time taken for dot product using NumPy arrays: {time_np_dot:.5f} seconds\")"
      ],
      "metadata": {
        "colab": {
          "base_uri": "https://localhost:8080/"
        },
        "id": "Mstuohl7mO3t",
        "outputId": "b3c8014b-a106-4d97-9a61-f429cf9244d2"
      },
      "execution_count": 71,
      "outputs": [
        {
          "output_type": "stream",
          "name": "stdout",
          "text": [
            "Time taken for dot product using Python lists: 0.08377 seconds\n",
            "Time taken for dot product using NumPy arrays: 0.00179 seconds\n"
          ]
        }
      ]
    },
    {
      "cell_type": "markdown",
      "source": [
        "4. Matrix Multiplication"
      ],
      "metadata": {
        "id": "Ce4TjSfFmgwq"
      }
    },
    {
      "cell_type": "code",
      "source": [
        "import numpy as np\n",
        "import time\n",
        "\n",
        "matrix_size = 1000\n",
        "matrix1_list = [[np.random.randint(1, 100) for _ in range(matrix_size)] for _ in range(matrix_size)]\n",
        "matrix2_list = [[np.random.randint(1, 100) for _ in range(matrix_size)] for _ in range(matrix_size)]\n",
        "start_time_list = time.time()\n",
        "result_matrix_list = [[sum(matrix1_list[i][k] * matrix2_list[k][j] for k in range(matrix_size))\n",
        "                       for j in range(matrix_size)] for i in range(matrix_size)]\n",
        "end_time_list = time.time()\n",
        "time_list_matmul = end_time_list - start_time_list\n",
        "print(f\"Time taken for matrix multiplication using Python lists: {time_list_matmul:.5f} seconds\")\n",
        "\n",
        "matrix1_np = np.random.randint(1, 100, (matrix_size, matrix_size))\n",
        "matrix2_np = np.random.randint(1, 100, (matrix_size, matrix_size))\n",
        "start_time_np = time.time()\n",
        "result_matrix_np = np.dot(matrix1_np, matrix2_np)\n",
        "end_time_np = time.time()\n",
        "time_np_matmul = end_time_np - start_time_np\n",
        "print(f\"Time taken for matrix multiplication using NumPy: {time_np_matmul:.5f} seconds\")\n"
      ],
      "metadata": {
        "colab": {
          "base_uri": "https://localhost:8080/"
        },
        "id": "Tg7XpQ4omUtm",
        "outputId": "340c5278-3eb2-4a5f-b901-e66cddb84501"
      },
      "execution_count": 72,
      "outputs": [
        {
          "output_type": "stream",
          "name": "stdout",
          "text": [
            "Time taken for matrix multiplication using Python lists: 131.55584 seconds\n",
            "Time taken for matrix multiplication using NumPy: 1.50634 seconds\n"
          ]
        }
      ]
    },
    {
      "cell_type": "code",
      "source": [
        "import random\n",
        "import time\n",
        "\n",
        "size = 1000\n",
        "A = [[random.randint(1, 10) for _ in range(size)] for _ in range(size)]\n",
        "B = [[random.randint(1, 10) for _ in range(size)] for _ in range(size)]\n",
        "\n",
        "def matrix_multiply(A, B):\n",
        "    result = [[0] * size for _ in range(size)]\n",
        "    for i in range(size):\n",
        "        for j in range(size):\n",
        "            for k in range(size):\n",
        "                result[i][j] += A[i][k] * B[k][j]\n",
        "    return result\n",
        "start_time = time.time()\n",
        "C = matrix_multiply(A, B)\n",
        "end_time = time.time()\n",
        "print(f\"Time taken using Python lists: {end_time - start_time:.5f} seconds\")"
      ],
      "metadata": {
        "colab": {
          "base_uri": "https://localhost:8080/"
        },
        "id": "-cJ3Q1BOSqBg",
        "outputId": "e73ddc20-0f89-49cd-d80d-116bec42a5c0"
      },
      "execution_count": 73,
      "outputs": [
        {
          "output_type": "stream",
          "name": "stdout",
          "text": [
            "Time taken using Python lists: 139.24335 seconds\n"
          ]
        }
      ]
    },
    {
      "cell_type": "code",
      "source": [
        "import numpy as np\n",
        "\n",
        "A_np = np.random.randint(1, 11, (size, size))\n",
        "B_np = np.random.randint(1, 11, (size, size))\n",
        "\n",
        "start_time = time.time()\n",
        "C_np = np.dot(A_np, B_np)\n",
        "end_time = time.time()\n",
        "\n",
        "print(f\"Time taken using NumPy: {end_time - start_time:.5f} seconds\")\n"
      ],
      "metadata": {
        "id": "innxY6tTSvul",
        "colab": {
          "base_uri": "https://localhost:8080/"
        },
        "outputId": "49e58833-f65f-4e3e-e16b-4e8c3a2d0403"
      },
      "execution_count": 74,
      "outputs": [
        {
          "output_type": "stream",
          "name": "stdout",
          "text": [
            "Time taken using NumPy: 1.61509 seconds\n"
          ]
        }
      ]
    }
  ]
}